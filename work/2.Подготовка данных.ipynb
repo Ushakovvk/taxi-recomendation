{
 "cells": [
  {
   "cell_type": "code",
   "execution_count": 4,
   "metadata": {},
   "outputs": [],
   "source": [
    "!pip install -q holidays"
   ]
  },
  {
   "cell_type": "code",
   "execution_count": 1,
   "metadata": {},
   "outputs": [],
   "source": [
    "import seaborn as sns\n",
    "import matplotlib.pyplot as plt\n",
    "sns.set(style=\"ticks\", color_codes=True)"
   ]
  },
  {
   "cell_type": "code",
   "execution_count": 2,
   "metadata": {},
   "outputs": [],
   "source": [
    "path_to_rawdata = 'data/green_taxi/2019/green_tripdata_2019-06.csv.bz2'\n",
    "path_to_geoinfo = 'shape/'"
   ]
  },
  {
   "cell_type": "code",
   "execution_count": 5,
   "metadata": {
    "colab": {},
    "colab_type": "code",
    "id": "lC-Ulysdzm85"
   },
   "outputs": [],
   "source": [
    "from pyspark.sql import SparkSession\n",
    "from pyspark.sql.functions import *\n",
    "from pyspark.sql.window import Window\n",
    "import pandas as pd\n",
    "import numpy as np\n",
    "import holidays\n",
    "import matplotlib.pyplot as plt\n",
    "from tqdm.auto import tqdm\n",
    "from IPython.display import clear_output"
   ]
  },
  {
   "cell_type": "code",
   "execution_count": 6,
   "metadata": {},
   "outputs": [],
   "source": [
    "from filter import filter_data\n",
    "from load import load_data"
   ]
  },
  {
   "cell_type": "code",
   "execution_count": 7,
   "metadata": {
    "colab": {},
    "colab_type": "code",
    "id": "P1kT0sq2zm8-"
   },
   "outputs": [],
   "source": [
    "MEMORY_SIZE = '5g'\n",
    "spark = SparkSession \\\n",
    "    .builder \\\n",
    "    .config('spark.driver.memory', MEMORY_SIZE) \\\n",
    "    .appName('spark-taxi') \\\n",
    "    .getOrCreate()"
   ]
  },
  {
   "cell_type": "code",
   "execution_count": 8,
   "metadata": {},
   "outputs": [],
   "source": [
    "df = load_data(spark, path_to_rawdata)\n",
    "df = filter_data(df)"
   ]
  },
  {
   "cell_type": "code",
   "execution_count": 9,
   "metadata": {},
   "outputs": [
    {
     "data": {
      "text/plain": [
       "[74, 75, 41, 82, 7, 166, 42, 95, 97, 129]"
      ]
     },
     "execution_count": 9,
     "metadata": {},
     "output_type": "execute_result"
    }
   ],
   "source": [
    "count_by_zones = df.groupBy('PULocationID').count().toPandas()\n",
    "count_by_zones.sort_values('count', ascending=False).iloc[:10,0].to_list()"
   ]
  },
  {
   "cell_type": "code",
   "execution_count": 9,
   "metadata": {},
   "outputs": [],
   "source": [
    "w = Window().partitionBy(\"PULocationID\").orderBy(\"lpep_pickup_datetime\")\n",
    "pause_secs = col(\"lpep_pickup_datetime\").cast(\"long\") - lag(col(\"lpep_pickup_datetime\"), 1).over(w).cast(\"long\")\n",
    "lpep_pickup_datetime_lag = lag(col(\"lpep_pickup_datetime\"), 1).over(w)\n",
    "\n",
    "df = df.withColumn(\"duration_wait\", (pause_secs / 60)) \\\n",
    "        .withColumn('lpep_pickup_datetime_lag', lpep_pickup_datetime_lag) \\\n",
    "        .dropna()"
   ]
  },
  {
   "cell_type": "code",
   "execution_count": 10,
   "metadata": {},
   "outputs": [],
   "source": [
    "us_holidays = list(holidays.UnitedStates(years=[2017, 2018, 2019]).keys())"
   ]
  },
  {
   "cell_type": "markdown",
   "metadata": {},
   "source": [
    "actions - (ехать в район i, ждать заказ в данном районе)\n",
    "s >> ехать в район i >> (s',r)\n",
    "s >> ждать заказ >> p(s',r)"
   ]
  },
  {
   "cell_type": "code",
   "execution_count": 11,
   "metadata": {},
   "outputs": [],
   "source": [
    "def prep_state(df, place, data_col, name):\n",
    "    \n",
    "    state_cols = ['hour', 'weekday']\n",
    "    \n",
    "    df = df.withColumn(\"weekday\", dayofweek(col(data_col))) \\\n",
    "            .withColumn('holiday', when(col(data_col).isin(us_holidays), 1).otherwise(0)) \\\n",
    "            .withColumn(\"hour\", hour(col(data_col)))\n",
    "    \n",
    "    df = df.withColumn(name, struct([col(place).alias('location')] + state_cols))\n",
    "    \n",
    "    df = df.drop(*state_cols)\n",
    "    \n",
    "    return df"
   ]
  },
  {
   "cell_type": "code",
   "execution_count": 12,
   "metadata": {},
   "outputs": [],
   "source": [
    "df = prep_state(df, 'PULocationID', 'lpep_pickup_datetime', 'state_pickup')\n",
    "df = prep_state(df, 'DOLocationID', 'lpep_dropoff_datetime', 'state_dropoff')\n",
    "df = prep_state(df, 'PULocationID', 'lpep_pickup_datetime_lag', 'state_pickup_lag')\n",
    "#drop_cols = ['lpep_pickup_datetime', 'lpep_dropoff_datetime', 'PULocationID', 'DOLocationID', 'lpep_pickup_datetime_lag']\n",
    "#df = df.drop(*drop_cols)"
   ]
  },
  {
   "cell_type": "code",
   "execution_count": 13,
   "metadata": {},
   "outputs": [
    {
     "data": {
      "text/html": [
       "<div>\n",
       "<style scoped>\n",
       "    .dataframe tbody tr th:only-of-type {\n",
       "        vertical-align: middle;\n",
       "    }\n",
       "\n",
       "    .dataframe tbody tr th {\n",
       "        vertical-align: top;\n",
       "    }\n",
       "\n",
       "    .dataframe thead th {\n",
       "        text-align: right;\n",
       "    }\n",
       "</style>\n",
       "<table border=\"1\" class=\"dataframe\">\n",
       "  <thead>\n",
       "    <tr style=\"text-align: right;\">\n",
       "      <th></th>\n",
       "      <th>lpep_pickup_datetime</th>\n",
       "      <th>lpep_dropoff_datetime</th>\n",
       "      <th>RatecodeID</th>\n",
       "      <th>PULocationID</th>\n",
       "      <th>DOLocationID</th>\n",
       "      <th>passenger_count</th>\n",
       "      <th>trip_distance</th>\n",
       "      <th>fare_amount</th>\n",
       "      <th>tip_amount</th>\n",
       "      <th>tolls_amount</th>\n",
       "      <th>...</th>\n",
       "      <th>payment_type</th>\n",
       "      <th>trip_type</th>\n",
       "      <th>duration</th>\n",
       "      <th>speed</th>\n",
       "      <th>duration_wait</th>\n",
       "      <th>lpep_pickup_datetime_lag</th>\n",
       "      <th>holiday</th>\n",
       "      <th>state_pickup</th>\n",
       "      <th>state_dropoff</th>\n",
       "      <th>state_pickup_lag</th>\n",
       "    </tr>\n",
       "  </thead>\n",
       "  <tbody>\n",
       "    <tr>\n",
       "      <th>0</th>\n",
       "      <td>2019-06-01 01:13:33</td>\n",
       "      <td>2019-06-01 01:25:55</td>\n",
       "      <td>1</td>\n",
       "      <td>243</td>\n",
       "      <td>241</td>\n",
       "      <td>1</td>\n",
       "      <td>2.57</td>\n",
       "      <td>11.0</td>\n",
       "      <td>0.0</td>\n",
       "      <td>0.0</td>\n",
       "      <td>...</td>\n",
       "      <td>2</td>\n",
       "      <td>1</td>\n",
       "      <td>12</td>\n",
       "      <td>12.850000</td>\n",
       "      <td>37.016667</td>\n",
       "      <td>2019-06-01 00:36:32</td>\n",
       "      <td>0</td>\n",
       "      <td>(243, 1, 7)</td>\n",
       "      <td>(241, 1, 7)</td>\n",
       "      <td>(243, 0, 7)</td>\n",
       "    </tr>\n",
       "    <tr>\n",
       "      <th>1</th>\n",
       "      <td>2019-06-01 01:16:22</td>\n",
       "      <td>2019-06-01 01:32:17</td>\n",
       "      <td>1</td>\n",
       "      <td>243</td>\n",
       "      <td>248</td>\n",
       "      <td>1</td>\n",
       "      <td>5.09</td>\n",
       "      <td>17.5</td>\n",
       "      <td>0.0</td>\n",
       "      <td>0.0</td>\n",
       "      <td>...</td>\n",
       "      <td>2</td>\n",
       "      <td>2</td>\n",
       "      <td>15</td>\n",
       "      <td>20.360001</td>\n",
       "      <td>2.816667</td>\n",
       "      <td>2019-06-01 01:13:33</td>\n",
       "      <td>0</td>\n",
       "      <td>(243, 1, 7)</td>\n",
       "      <td>(248, 1, 7)</td>\n",
       "      <td>(243, 1, 7)</td>\n",
       "    </tr>\n",
       "    <tr>\n",
       "      <th>2</th>\n",
       "      <td>2019-06-01 03:21:28</td>\n",
       "      <td>2019-06-01 03:30:46</td>\n",
       "      <td>1</td>\n",
       "      <td>243</td>\n",
       "      <td>116</td>\n",
       "      <td>1</td>\n",
       "      <td>1.72</td>\n",
       "      <td>8.5</td>\n",
       "      <td>0.0</td>\n",
       "      <td>0.0</td>\n",
       "      <td>...</td>\n",
       "      <td>2</td>\n",
       "      <td>1</td>\n",
       "      <td>9</td>\n",
       "      <td>11.466667</td>\n",
       "      <td>125.100000</td>\n",
       "      <td>2019-06-01 01:16:22</td>\n",
       "      <td>0</td>\n",
       "      <td>(243, 3, 7)</td>\n",
       "      <td>(116, 3, 7)</td>\n",
       "      <td>(243, 1, 7)</td>\n",
       "    </tr>\n",
       "    <tr>\n",
       "      <th>3</th>\n",
       "      <td>2019-06-01 04:13:37</td>\n",
       "      <td>2019-06-01 04:41:01</td>\n",
       "      <td>1</td>\n",
       "      <td>243</td>\n",
       "      <td>4</td>\n",
       "      <td>1</td>\n",
       "      <td>12.34</td>\n",
       "      <td>35.5</td>\n",
       "      <td>3.0</td>\n",
       "      <td>0.0</td>\n",
       "      <td>...</td>\n",
       "      <td>1</td>\n",
       "      <td>1</td>\n",
       "      <td>27</td>\n",
       "      <td>27.422223</td>\n",
       "      <td>52.150000</td>\n",
       "      <td>2019-06-01 03:21:28</td>\n",
       "      <td>0</td>\n",
       "      <td>(243, 4, 7)</td>\n",
       "      <td>(4, 4, 7)</td>\n",
       "      <td>(243, 3, 7)</td>\n",
       "    </tr>\n",
       "    <tr>\n",
       "      <th>4</th>\n",
       "      <td>2019-06-01 05:07:01</td>\n",
       "      <td>2019-06-01 05:10:21</td>\n",
       "      <td>1</td>\n",
       "      <td>243</td>\n",
       "      <td>243</td>\n",
       "      <td>1</td>\n",
       "      <td>0.86</td>\n",
       "      <td>4.5</td>\n",
       "      <td>0.0</td>\n",
       "      <td>0.0</td>\n",
       "      <td>...</td>\n",
       "      <td>2</td>\n",
       "      <td>1</td>\n",
       "      <td>3</td>\n",
       "      <td>17.200000</td>\n",
       "      <td>53.400000</td>\n",
       "      <td>2019-06-01 04:13:37</td>\n",
       "      <td>0</td>\n",
       "      <td>(243, 5, 7)</td>\n",
       "      <td>(243, 5, 7)</td>\n",
       "      <td>(243, 4, 7)</td>\n",
       "    </tr>\n",
       "  </tbody>\n",
       "</table>\n",
       "<p>5 rows × 21 columns</p>\n",
       "</div>"
      ],
      "text/plain": [
       "  lpep_pickup_datetime lpep_dropoff_datetime  RatecodeID  PULocationID  \\\n",
       "0  2019-06-01 01:13:33   2019-06-01 01:25:55           1           243   \n",
       "1  2019-06-01 01:16:22   2019-06-01 01:32:17           1           243   \n",
       "2  2019-06-01 03:21:28   2019-06-01 03:30:46           1           243   \n",
       "3  2019-06-01 04:13:37   2019-06-01 04:41:01           1           243   \n",
       "4  2019-06-01 05:07:01   2019-06-01 05:10:21           1           243   \n",
       "\n",
       "   DOLocationID  passenger_count  trip_distance  fare_amount  tip_amount  \\\n",
       "0           241                1           2.57         11.0         0.0   \n",
       "1           248                1           5.09         17.5         0.0   \n",
       "2           116                1           1.72          8.5         0.0   \n",
       "3             4                1          12.34         35.5         3.0   \n",
       "4           243                1           0.86          4.5         0.0   \n",
       "\n",
       "   tolls_amount  ...  payment_type  trip_type  duration      speed  \\\n",
       "0           0.0  ...             2          1        12  12.850000   \n",
       "1           0.0  ...             2          2        15  20.360001   \n",
       "2           0.0  ...             2          1         9  11.466667   \n",
       "3           0.0  ...             1          1        27  27.422223   \n",
       "4           0.0  ...             2          1         3  17.200000   \n",
       "\n",
       "   duration_wait  lpep_pickup_datetime_lag holiday  state_pickup  \\\n",
       "0      37.016667       2019-06-01 00:36:32       0   (243, 1, 7)   \n",
       "1       2.816667       2019-06-01 01:13:33       0   (243, 1, 7)   \n",
       "2     125.100000       2019-06-01 01:16:22       0   (243, 3, 7)   \n",
       "3      52.150000       2019-06-01 03:21:28       0   (243, 4, 7)   \n",
       "4      53.400000       2019-06-01 04:13:37       0   (243, 5, 7)   \n",
       "\n",
       "  state_dropoff state_pickup_lag  \n",
       "0   (241, 1, 7)      (243, 0, 7)  \n",
       "1   (248, 1, 7)      (243, 1, 7)  \n",
       "2   (116, 3, 7)      (243, 1, 7)  \n",
       "3     (4, 4, 7)      (243, 3, 7)  \n",
       "4   (243, 5, 7)      (243, 4, 7)  \n",
       "\n",
       "[5 rows x 21 columns]"
      ]
     },
     "execution_count": 13,
     "metadata": {},
     "output_type": "execute_result"
    }
   ],
   "source": [
    "df.cache()\n",
    "df.limit(5).toPandas()"
   ]
  },
  {
   "cell_type": "markdown",
   "metadata": {},
   "source": [
    "### Остаться в этом районе"
   ]
  },
  {
   "cell_type": "code",
   "execution_count": 14,
   "metadata": {},
   "outputs": [],
   "source": [
    "df1 = df.select([col('lpep_pickup_datetime_lag').alias('datetime'),\n",
    "                col('state_pickup_lag').alias('state'), \n",
    "               col('state_pickup_lag').location.alias('action'),\n",
    "               (col('fare_amount') - col('duration_wait') * 5.0 - col('trip_distance') * 1.60934 * 0.1 * 0.67).alias('reward'),\n",
    "               col('state_dropoff').alias('next_state'),\n",
    "               (col('duration') + col('duration_wait')).alias('duration_trip'),\n",
    "               (col('fare_amount') - col('trip_distance') * 1.60934 * 0.1 * 0.67).alias('fare')\n",
    "              ])"
   ]
  },
  {
   "cell_type": "markdown",
   "metadata": {},
   "source": [
    "### Ехать в другой район"
   ]
  },
  {
   "cell_type": "code",
   "execution_count": 15,
   "metadata": {},
   "outputs": [],
   "source": [
    "df2 = df.filter('state_pickup.location != state_dropoff.location') \\\n",
    "        .select([col('lpep_pickup_datetime').alias('datetime'),\n",
    "                col('state_pickup').alias('state'), \n",
    "               col('state_dropoff').location.alias('action'),\n",
    "               (col('total_amount') * -1).alias('reward'),\n",
    "               col('state_dropoff').alias('next_state'),\n",
    "               col('duration').alias('duration_trip'),\n",
    "               (col('trip_distance') * 1.60934 * 0.1 * 0.67 * -1).alias('fare')\n",
    "              ])"
   ]
  },
  {
   "cell_type": "code",
   "execution_count": 16,
   "metadata": {},
   "outputs": [],
   "source": [
    "data = df1.union(df2)"
   ]
  },
  {
   "cell_type": "code",
   "execution_count": 17,
   "metadata": {},
   "outputs": [],
   "source": [
    "data.repartition(8).write.parquet('data/green_taxi_prepare___/')"
   ]
  },
  {
   "cell_type": "code",
   "execution_count": null,
   "metadata": {},
   "outputs": [],
   "source": []
  }
 ],
 "metadata": {
  "kernelspec": {
   "display_name": "Python 3",
   "language": "python",
   "name": "python3"
  },
  "language_info": {
   "codemirror_mode": {
    "name": "ipython",
    "version": 3
   },
   "file_extension": ".py",
   "mimetype": "text/x-python",
   "name": "python",
   "nbconvert_exporter": "python",
   "pygments_lexer": "ipython3",
   "version": "3.8.6"
  }
 },
 "nbformat": 4,
 "nbformat_minor": 4
}
