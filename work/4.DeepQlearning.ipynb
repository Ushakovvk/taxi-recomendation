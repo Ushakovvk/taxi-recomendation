{
  "nbformat": 4,
  "nbformat_minor": 0,
  "metadata": {
    "kernelspec": {
      "display_name": "Python 3",
      "language": "python",
      "name": "python3"
    },
    "colab": {
      "name": "DeepQlearning.ipynb",
      "provenance": [],
      "collapsed_sections": []
    },
    "accelerator": "GPU"
  },
  "cells": [
    {
      "cell_type": "code",
      "metadata": {
        "id": "Rapzg06HIGdo",
        "colab_type": "code",
        "colab": {}
      },
      "source": [
        "#!pip install torch==1.5.0+cpu torchvision==0.6.0+cpu -f https://download.pytorch.org/whl/torch_stable.html"
      ],
      "execution_count": null,
      "outputs": []
    },
    {
      "cell_type": "code",
      "metadata": {
        "id": "cu94nJfZIGd8",
        "colab_type": "code",
        "colab": {}
      },
      "source": [
        "!apt-get install openjdk-8-jdk-headless -qq > /dev/null\n",
        "!wget -q https://www-us.apache.org/dist/spark/spark-2.4.5/spark-2.4.5-bin-hadoop2.7.tgz\n",
        "!tar xf spark-2.4.5-bin-hadoop2.7.tgz\n",
        "!pip install -q findspark"
      ],
      "execution_count": 1,
      "outputs": []
    },
    {
      "cell_type": "code",
      "metadata": {
        "id": "qSJIcDREu-Uy",
        "colab_type": "code",
        "colab": {}
      },
      "source": [
        "import os\n",
        "os.environ[\"JAVA_HOME\"] = \"/usr/lib/jvm/java-8-openjdk-amd64\"\n",
        "os.environ[\"SPARK_HOME\"] = \"/content/spark-2.4.5-bin-hadoop2.7\"\n",
        "\n",
        "import findspark\n",
        "findspark.init()"
      ],
      "execution_count": 2,
      "outputs": []
    },
    {
      "cell_type": "code",
      "metadata": {
        "id": "4HHoVIaqJTrA",
        "colab_type": "code",
        "colab": {
          "base_uri": "https://localhost:8080/",
          "height": 132
        },
        "outputId": "66212909-d52c-4c5e-b6cf-b593a29b29a3"
      },
      "source": [
        "from google.colab import drive\n",
        "drive.mount('/content/drive')"
      ],
      "execution_count": 3,
      "outputs": [
        {
          "output_type": "stream",
          "text": [
            "Go to this URL in a browser: https://accounts.google.com/o/oauth2/auth?client_id=947318989803-6bn6qk8qdgf4n4g3pfee6491hc0brc4i.apps.googleusercontent.com&redirect_uri=urn%3aietf%3awg%3aoauth%3a2.0%3aoob&response_type=code&scope=email%20https%3a%2f%2fwww.googleapis.com%2fauth%2fdocs.test%20https%3a%2f%2fwww.googleapis.com%2fauth%2fdrive%20https%3a%2f%2fwww.googleapis.com%2fauth%2fdrive.photos.readonly%20https%3a%2f%2fwww.googleapis.com%2fauth%2fpeopleapi.readonly\n",
            "\n",
            "Enter your authorization code:\n",
            "··········\n",
            "Mounted at /content/drive\n"
          ],
          "name": "stdout"
        }
      ]
    },
    {
      "cell_type": "code",
      "metadata": {
        "id": "rWrcLM4CIGeG",
        "colab_type": "code",
        "colab": {}
      },
      "source": [
        "from pyspark.sql import SparkSession\n",
        "from pyspark.sql.functions import array, rand, col"
      ],
      "execution_count": 4,
      "outputs": []
    },
    {
      "cell_type": "code",
      "metadata": {
        "id": "Oa_rYz_FIGeN",
        "colab_type": "code",
        "colab": {}
      },
      "source": [
        "import pandas as pd\n",
        "import numpy as np\n",
        "import pickle\n",
        "import collections\n",
        "from tqdm.notebook import tqdm\n",
        "from IPython.display import clear_output"
      ],
      "execution_count": 5,
      "outputs": []
    },
    {
      "cell_type": "code",
      "metadata": {
        "id": "eX2bAI15IGeT",
        "colab_type": "code",
        "colab": {}
      },
      "source": [
        "import seaborn as sns\n",
        "import matplotlib.pyplot as plt\n",
        "sns.set(style=\"ticks\", color_codes=True)"
      ],
      "execution_count": 8,
      "outputs": []
    },
    {
      "cell_type": "code",
      "metadata": {
        "id": "oooTiyi6IGeZ",
        "colab_type": "code",
        "colab": {}
      },
      "source": [
        "MEMORY_SIZE = '5g'\n",
        "spark = SparkSession \\\n",
        "    .builder \\\n",
        "    .config('spark.driver.memory', MEMORY_SIZE) \\\n",
        "    .appName('spark-taxi') \\\n",
        "    .getOrCreate()"
      ],
      "execution_count": 7,
      "outputs": []
    },
    {
      "cell_type": "code",
      "metadata": {
        "id": "Md5cr-i3IGeg",
        "colab_type": "code",
        "colab": {}
      },
      "source": [
        "path_to_data = '/content/drive/My Drive/green_taxi_prepare/'"
      ],
      "execution_count": 9,
      "outputs": []
    },
    {
      "cell_type": "code",
      "metadata": {
        "id": "4Gyuuy7RIGel",
        "colab_type": "code",
        "colab": {
          "base_uri": "https://localhost:8080/",
          "height": 492
        },
        "outputId": "1c90e8e9-e082-4deb-ea91-9bf629e79743"
      },
      "source": [
        "data = spark.read.parquet(path_to_data)\n",
        "data.show(3)\n",
        "data.printSchema()"
      ],
      "execution_count": 10,
      "outputs": [
        {
          "output_type": "stream",
          "text": [
            "+-------------------+---------------+------+-------------------+---------------+------------------+\n",
            "|           datetime|          state|action|             reward|     next_state|     duration_trip|\n",
            "+-------------------+---------------+------+-------------------+---------------+------------------+\n",
            "|2019-06-21 18:07:10|[243, 18, 6, 0]|   243|  7.266666666666667|[243, 18, 6, 0]|10.466666666666667|\n",
            "|2019-06-06 14:29:09|[243, 14, 5, 0]|   243|-10.391666666666666|[243, 15, 5, 0]| 38.78333333333333|\n",
            "|2019-06-07 21:49:43|[243, 21, 6, 0]|   243|-3.4000000000000004|[243, 22, 6, 0]|              15.8|\n",
            "+-------------------+---------------+------+-------------------+---------------+------------------+\n",
            "only showing top 3 rows\n",
            "\n",
            "root\n",
            " |-- datetime: timestamp (nullable = true)\n",
            " |-- state: struct (nullable = true)\n",
            " |    |-- location: integer (nullable = true)\n",
            " |    |-- hour: integer (nullable = true)\n",
            " |    |-- weekday: integer (nullable = true)\n",
            " |    |-- holiday: integer (nullable = true)\n",
            " |-- action: integer (nullable = true)\n",
            " |-- reward: double (nullable = true)\n",
            " |-- next_state: struct (nullable = true)\n",
            " |    |-- location: integer (nullable = true)\n",
            " |    |-- hour: integer (nullable = true)\n",
            " |    |-- weekday: integer (nullable = true)\n",
            " |    |-- holiday: integer (nullable = true)\n",
            " |-- duration_trip: double (nullable = true)\n",
            "\n"
          ],
          "name": "stdout"
        }
      ]
    },
    {
      "cell_type": "code",
      "metadata": {
        "id": "BU-1PqciIGeq",
        "colab_type": "code",
        "colab": {}
      },
      "source": [
        "train_data = data\n",
        "test_data = data"
      ],
      "execution_count": 11,
      "outputs": []
    },
    {
      "cell_type": "code",
      "metadata": {
        "id": "UUQnO1A-b3ak",
        "colab_type": "code",
        "colab": {}
      },
      "source": [
        "train_data = train_data.select(array('state.*').alias('state'),\n",
        "                   'action',\n",
        "                   'reward',\n",
        "                   array('next_state.*').alias('next_state'),\n",
        "                   'duration_trip').cache()"
      ],
      "execution_count": 12,
      "outputs": []
    },
    {
      "cell_type": "code",
      "metadata": {
        "id": "RoVMasJXAI4V",
        "colab_type": "code",
        "colab": {}
      },
      "source": [
        "test_data = test_data.select(array('state.*').alias('state'),\n",
        "                   'action',\n",
        "                   'reward',\n",
        "                   array('next_state.*').alias('next_state'),\n",
        "                   'duration_trip').cache()"
      ],
      "execution_count": 13,
      "outputs": []
    },
    {
      "cell_type": "code",
      "metadata": {
        "id": "39shaiv4duhu",
        "colab_type": "code",
        "colab": {
          "base_uri": "https://localhost:8080/",
          "height": 55
        },
        "outputId": "91a76b35-35b1-4843-c5c1-d4861b94b330"
      },
      "source": [
        "print(train_data.count())\n",
        "print(test_data.count())"
      ],
      "execution_count": 14,
      "outputs": [
        {
          "output_type": "stream",
          "text": [
            "440934\n",
            "440934\n"
          ],
          "name": "stdout"
        }
      ]
    },
    {
      "cell_type": "code",
      "metadata": {
        "id": "QoVBmFokARrq",
        "colab_type": "code",
        "colab": {}
      },
      "source": [
        "class SparkDataset():\n",
        "\n",
        "    def __init__(self, df):\n",
        "        self.df = df\n",
        "\n",
        "    def sample_generator(self):\n",
        "        gen = self.df.orderBy(rand()).toLocalIterator()\n",
        "        for sample in gen:\n",
        "            yield {'state': tuple(sample['state']), 'action': sample['action'], 'reward': sample['reward'], \n",
        "                   'next_state': tuple(sample['next_state']), 'duration_trip': sample['duration_trip']}\n",
        "\n",
        "    def __iter__(self):\n",
        "        return self.sample_generator()"
      ],
      "execution_count": 15,
      "outputs": []
    },
    {
      "cell_type": "code",
      "metadata": {
        "id": "JWVEaAGQ5XEq",
        "colab_type": "code",
        "colab": {}
      },
      "source": [
        "class TaxiEnv:\n",
        "    \n",
        "    def __init__(self, dataset):\n",
        "        self.env = collections.defaultdict(lambda: collections.defaultdict(list))\n",
        "        i = 0\n",
        "        for sample in dataset:\n",
        "            \n",
        "            s = sample['state']\n",
        "            a = sample['action']\n",
        "            r = sample['reward']\n",
        "            next_s = sample['next_state']\n",
        "            d = sample['duration_trip']\n",
        "            \n",
        "            self.env[s][a].append((next_s, r, d))\n",
        "            i += 1\n",
        "        print(i)\n",
        "            \n",
        "        self.state_count = len(self.env.keys())\n",
        "        \n",
        "    def step(self, state, action):\n",
        "        if self.env[state][action]:\n",
        "            x = list(map(list, zip(*self.env[state][action])))\n",
        "            i = np.random.choice(len(x[2]))\n",
        "            next_state = x[0][i]\n",
        "            reward = x[1][i]\n",
        "            duration = x[2][i]\n",
        "        else:\n",
        "            reward = 0.\n",
        "            duration = 0.\n",
        "            next_state = self.get_random_state()\n",
        "        return next_state, reward, duration\n",
        "    \n",
        "    def get_random_state(self):\n",
        "        i = np.random.choice(self.state_count)\n",
        "        key = list(self.env.keys())[i]\n",
        "        return key"
      ],
      "execution_count": 16,
      "outputs": []
    },
    {
      "cell_type": "code",
      "metadata": {
        "id": "fmkon71jf6Yi",
        "colab_type": "code",
        "colab": {}
      },
      "source": [
        "def generate_session(agent, env, t_max=8*60):\n",
        "    reward = 0\n",
        "    duration = 0\n",
        "    state = env.get_random_state()\n",
        "    i = 0\n",
        "    while duration < t_max and i < 200:\n",
        "        action = agent.get_best_action(state)\n",
        "        next_s, r, d = env.step(state, action)\n",
        "        reward += r\n",
        "        duration += d\n",
        "        state = next_s\n",
        "        i += 1\n",
        "      \n",
        "    return reward"
      ],
      "execution_count": 17,
      "outputs": []
    },
    {
      "cell_type": "code",
      "metadata": {
        "id": "r7aECU0i7Dte",
        "colab_type": "code",
        "colab": {}
      },
      "source": [
        "class SimpleAgent:\n",
        "    \n",
        "    def __init__(self, best_actions=[7]):\n",
        "        self.best_actions = best_actions\n",
        "\n",
        "    def get_best_action(self, state):\n",
        "        action = np.random.choice(self.best_actions)\n",
        "        return int(action)"
      ],
      "execution_count": 18,
      "outputs": []
    },
    {
      "cell_type": "code",
      "metadata": {
        "id": "-f4Vqzs0R1QB",
        "colab_type": "code",
        "colab": {}
      },
      "source": [
        "import torch\n",
        "import torch.nn as nn\n",
        "import torch.nn.functional as F\n",
        "from torch.utils.data import Dataset, DataLoader, IterableDataset"
      ],
      "execution_count": 19,
      "outputs": []
    },
    {
      "cell_type": "code",
      "metadata": {
        "id": "J_Q1IYNgIGfE",
        "colab_type": "code",
        "colab": {}
      },
      "source": [
        "class NeuralAgent:\n",
        "    \n",
        "  def __init__(self, network, opt, transform=None):\n",
        "    self.network = network\n",
        "    self.opt = opt\n",
        "    self.transform = transform\n",
        "\n",
        "  def train(self, sample):\n",
        "    self.network.train()\n",
        "\n",
        "    states = [sample['state']]\n",
        "    actions = [sample['action'] - 1]\n",
        "    rewards = [sample['reward']]\n",
        "    next_states = [sample['next_state']]\n",
        "\n",
        "    if self.transform:\n",
        "      states = self.transform.transform(states)\n",
        "      next_states = self.transform.transform(next_states)\n",
        "\n",
        "    self.opt.zero_grad()\n",
        "    compute_td_loss(states, actions, rewards, next_states).backward()\n",
        "    self.opt.step()\n",
        "\n",
        "  def get_best_action(self, state):\n",
        "    self.network.eval()\n",
        "\n",
        "    states = [state]\n",
        "    if self.transform:\n",
        "      states = self.transform.transform(states)\n",
        "    states = torch.tensor(states, dtype=torch.float32).to(device)\n",
        "    q_values = self.network(states).detach().to('cpu').numpy()\n",
        "    action = np.argmax(q_values)\n",
        "    return int(action) + 1"
      ],
      "execution_count": 20,
      "outputs": []
    },
    {
      "cell_type": "code",
      "metadata": {
        "id": "_q1JiGGzIGfe",
        "colab_type": "code",
        "colab": {}
      },
      "source": [
        "def to_one_hot(y_tensor, n_dims=None):\n",
        "    \"\"\" helper: take an integer vector and convert it to 1-hot matrix. \"\"\"\n",
        "    y_tensor = y_tensor.type(torch.LongTensor).view(-1, 1)\n",
        "    n_dims = n_dims if n_dims is not None else int(torch.max(y_tensor)) + 1\n",
        "    y_one_hot = torch.zeros(\n",
        "        y_tensor.size()[0], n_dims).scatter_(1, y_tensor, 1).to(device)\n",
        "    return y_one_hot\n",
        "\n",
        "\n",
        "def where(cond, x_1, x_2):\n",
        "    \"\"\" helper: like np.where but in pytorch. \"\"\"\n",
        "    return (cond * x_1) + ((1-cond) * x_2)"
      ],
      "execution_count": 21,
      "outputs": []
    },
    {
      "cell_type": "code",
      "metadata": {
        "id": "VXI2Siu9IGfi",
        "colab_type": "code",
        "colab": {}
      },
      "source": [
        "def compute_td_loss(states, actions, rewards, next_states, gamma=0.99, check_shapes=False):\n",
        "    \"\"\" Compute td loss using torch operations only. Use the formula above. \"\"\"\n",
        "    states = torch.tensor(\n",
        "        states, dtype=torch.float32).to(device)    # shape: [batch_size, state_size]\n",
        "    actions = torch.tensor(actions, dtype=torch.int32).to(device)   # shape: [batch_size]\n",
        "    rewards = torch.tensor(rewards, dtype=torch.float32).to(device)  # shape: [batch_size]\n",
        "    # shape: [batch_size, state_size]\n",
        "    next_states = torch.tensor(next_states, dtype=torch.float32).to(device)\n",
        "\n",
        "    # get q-values for all actions in current states\n",
        "    predicted_qvalues = network(states)\n",
        "\n",
        "    # select q-values for chosen actions\n",
        "    predicted_qvalues_for_actions = torch.sum(\n",
        "        predicted_qvalues * to_one_hot(actions, n_actions), dim=1)\n",
        "\n",
        "    # compute q-values for all actions in next states\n",
        "    predicted_next_qvalues =  network(next_states)\n",
        "\n",
        "    # compute V*(next_states) using predicted next q-values\n",
        "    with torch.no_grad():\n",
        "        next_state_values =  torch.max(predicted_next_qvalues, dim=1)[0]\n",
        "\n",
        "    # compute \"target q-values\" for loss - it's what's inside square parentheses in the above formula.\n",
        "    target_qvalues_for_actions =  rewards + gamma * next_state_values\n",
        "\n",
        "    # mean squared error loss to minimize\n",
        "    loss = F.smooth_l1_loss(predicted_qvalues_for_actions,\n",
        "                       target_qvalues_for_actions.detach())\n",
        "\n",
        "    return loss"
      ],
      "execution_count": 22,
      "outputs": []
    },
    {
      "cell_type": "code",
      "metadata": {
        "id": "NxpTa6FmPtnY",
        "colab_type": "code",
        "colab": {}
      },
      "source": [
        "device = torch.device(\"cuda\" if torch.cuda.is_available() else \"cpu\")\n",
        "#device = torch.device('cpu')"
      ],
      "execution_count": 23,
      "outputs": []
    },
    {
      "cell_type": "code",
      "metadata": {
        "id": "AmhqWJrNeqh3",
        "colab_type": "code",
        "colab": {}
      },
      "source": [
        "possible_actions = np.arange(1,266)\n",
        "n_actions = len(possible_actions)\n",
        "state_dim = 6"
      ],
      "execution_count": 24,
      "outputs": []
    },
    {
      "cell_type": "code",
      "metadata": {
        "id": "vjfjzcZDIGfr",
        "colab_type": "code",
        "colab": {}
      },
      "source": [
        "from sklearn.preprocessing import OneHotEncoder\n",
        "from sklearn.compose import ColumnTransformer"
      ],
      "execution_count": 25,
      "outputs": []
    },
    {
      "cell_type": "code",
      "metadata": {
        "id": "tNc4KMrCIGfv",
        "colab_type": "code",
        "colab": {}
      },
      "source": [
        "categories = [np.arange(1,266), np.arange(0,24), np.arange(1,8), np.arange(0,2)]\n",
        "encoder = OneHotEncoder(categories=categories, drop='first', sparse=False).fit([[3, 0, 5, 0]])\n",
        "state_dim = len(encoder.get_feature_names())"
      ],
      "execution_count": 27,
      "outputs": []
    },
    {
      "cell_type": "code",
      "metadata": {
        "id": "m7Yaja7qIGfz",
        "colab_type": "code",
        "colab": {}
      },
      "source": [
        "hidden_neurons = 128\n",
        "\n",
        "network = nn.Sequential()\n",
        "\n",
        "network.add_module('layer1', nn.Linear(state_dim, hidden_neurons))\n",
        "network.add_module('relu1', nn.LeakyReLU())\n",
        "network.add_module('dropout1', nn.Dropout())\n",
        "network.add_module('layer2', nn.Linear(hidden_neurons, 64))\n",
        "network.add_module('relu2', nn.LeakyReLU())\n",
        "network.add_module('dropout2', nn.Dropout())\n",
        "network.add_module('layer3', nn.Linear(64, n_actions))\n",
        "\n",
        "network = network.to(device)"
      ],
      "execution_count": null,
      "outputs": []
    },
    {
      "cell_type": "code",
      "metadata": {
        "id": "OYCdypdZovGt",
        "colab_type": "code",
        "colab": {}
      },
      "source": [
        "hidden_neurons = 32\n",
        "\n",
        "network = nn.Sequential()\n",
        "\n",
        "network.add_module('layer1', nn.Linear(state_dim, hidden_neurons))\n",
        "network.add_module('relu1', nn.LeakyReLU())\n",
        "network.add_module('dropout1', nn.Dropout())\n",
        "network.add_module('layer3', nn.Linear(hidden_neurons, n_actions))\n",
        "\n",
        "network = network.to(device)"
      ],
      "execution_count": null,
      "outputs": []
    },
    {
      "cell_type": "code",
      "metadata": {
        "id": "eIyqOt684Du7",
        "colab_type": "code",
        "colab": {}
      },
      "source": [
        "network = nn.Sequential()\n",
        "network.add_module('layer1', nn.Linear(state_dim, n_actions))\n",
        "network = network.to(device)"
      ],
      "execution_count": 28,
      "outputs": []
    },
    {
      "cell_type": "code",
      "metadata": {
        "id": "Nl8TP3cJIGf8",
        "colab_type": "code",
        "colab": {}
      },
      "source": [
        "opt = torch.optim.Adam(network.parameters(), lr=1e-5)"
      ],
      "execution_count": 34,
      "outputs": []
    },
    {
      "cell_type": "code",
      "metadata": {
        "id": "uyY1mZvmIGgC",
        "colab_type": "code",
        "colab": {}
      },
      "source": [
        "agent = NeuralAgent(network, opt, encoder)"
      ],
      "execution_count": 35,
      "outputs": []
    },
    {
      "cell_type": "code",
      "metadata": {
        "id": "Tna6nh6t3uJz",
        "colab_type": "code",
        "colab": {}
      },
      "source": [
        "train_dataset = SparkDataset(train_data)\n",
        "test_dataset = SparkDataset(test_data)"
      ],
      "execution_count": 31,
      "outputs": []
    },
    {
      "cell_type": "code",
      "metadata": {
        "id": "9Phx5otzJJ_0",
        "colab_type": "code",
        "colab": {
          "base_uri": "https://localhost:8080/",
          "height": 36
        },
        "outputId": "3d4eb84e-fa4e-4ba0-beb6-0b26154f60d7"
      },
      "source": [
        "test_env = TaxiEnv(test_dataset)"
      ],
      "execution_count": 32,
      "outputs": [
        {
          "output_type": "stream",
          "text": [
            "440934\n"
          ],
          "name": "stdout"
        }
      ]
    },
    {
      "cell_type": "code",
      "metadata": {
        "id": "ImGpFUn0hvi-",
        "colab_type": "code",
        "colab": {
          "base_uri": "https://localhost:8080/",
          "height": 36
        },
        "outputId": "fc32c51a-0c11-4287-af00-07f5ee147a5d"
      },
      "source": [
        "simple_agent = SimpleAgent([95])\n",
        "np.mean([generate_session(simple_agent, test_env) for _ in range(1000)])"
      ],
      "execution_count": 33,
      "outputs": [
        {
          "output_type": "execute_result",
          "data": {
            "text/plain": [
              "237.63849166666668"
            ]
          },
          "metadata": {
            "tags": []
          },
          "execution_count": 33
        }
      ]
    },
    {
      "cell_type": "code",
      "metadata": {
        "id": "8s3dQMDWrtwV",
        "colab_type": "code",
        "colab": {}
      },
      "source": [
        "history_rewards = []"
      ],
      "execution_count": 36,
      "outputs": []
    },
    {
      "cell_type": "code",
      "metadata": {
        "id": "csBcvq-B39ZR",
        "colab_type": "code",
        "colab": {
          "base_uri": "https://localhost:8080/",
          "height": 719
        },
        "outputId": "2efb54e7-e0ea-4e0c-96cf-a1fd8736165b"
      },
      "source": [
        "for i_batch, sample in enumerate(train_dataset):\n",
        "  agent.train(sample)\n",
        "  if not i_batch % 10000:\n",
        "    with torch.no_grad():\n",
        "      history_rewards.append(np.mean([generate_session(agent, test_env) for _ in range(50)]))\n",
        "      clear_output(True)\n",
        "      plt.plot(history_rewards)\n",
        "      plt.show()\n",
        "      print([agent.get_best_action(test_env.get_random_state()) for _ in range(50)])"
      ],
      "execution_count": 38,
      "outputs": [
        {
          "output_type": "display_data",
          "data": {
            "image/png": "[encoded data removed]",
            "text/plain": [
              "<Figure size 432x288 with 1 Axes>"
            ]
          },
          "metadata": {
            "tags": []
          }
        },
        {
          "output_type": "stream",
          "text": [
            "[27, 84, 95, 95, 5, 95, 5, 8, 23, 59, 95, 221, 118, 30, 103, 5, 23, 30, 23, 23, 95, 46, 206, 118, 5, 30, 30, 103, 221, 84, 5, 15, 221, 95, 99, 5, 95, 187, 245, 245, 183, 245, 118, 118, 156, 5, 103, 5, 23, 5]\n"
          ],
          "name": "stdout"
        },
        {
          "output_type": "error",
          "ename": "KeyboardInterrupt",
          "evalue": "ignored",
          "traceback": [
            "\u001b[0;31m---------------------------------------------------------------------------\u001b[0m",
            "\u001b[0;31mKeyboardInterrupt\u001b[0m                         Traceback (most recent call last)",
            "\u001b[0;32m<ipython-input-38-8799f51e5aee>\u001b[0m in \u001b[0;36m<module>\u001b[0;34m()\u001b[0m\n\u001b[1;32m      1\u001b[0m \u001b[0;32mfor\u001b[0m \u001b[0mi_batch\u001b[0m\u001b[0;34m,\u001b[0m \u001b[0msample\u001b[0m \u001b[0;32min\u001b[0m \u001b[0menumerate\u001b[0m\u001b[0;34m(\u001b[0m\u001b[0mtrain_dataset\u001b[0m\u001b[0;34m)\u001b[0m\u001b[0;34m:\u001b[0m\u001b[0;34m\u001b[0m\u001b[0;34m\u001b[0m\u001b[0m\n\u001b[0;32m----> 2\u001b[0;31m   \u001b[0magent\u001b[0m\u001b[0;34m.\u001b[0m\u001b[0mtrain\u001b[0m\u001b[0;34m(\u001b[0m\u001b[0msample\u001b[0m\u001b[0;34m)\u001b[0m\u001b[0;34m\u001b[0m\u001b[0;34m\u001b[0m\u001b[0m\n\u001b[0m\u001b[1;32m      3\u001b[0m   \u001b[0;32mif\u001b[0m \u001b[0;32mnot\u001b[0m \u001b[0mi_batch\u001b[0m \u001b[0;34m%\u001b[0m \u001b[0;36m10000\u001b[0m\u001b[0;34m:\u001b[0m\u001b[0;34m\u001b[0m\u001b[0;34m\u001b[0m\u001b[0m\n\u001b[1;32m      4\u001b[0m     \u001b[0;32mwith\u001b[0m \u001b[0mtorch\u001b[0m\u001b[0;34m.\u001b[0m\u001b[0mno_grad\u001b[0m\u001b[0;34m(\u001b[0m\u001b[0;34m)\u001b[0m\u001b[0;34m:\u001b[0m\u001b[0;34m\u001b[0m\u001b[0;34m\u001b[0m\u001b[0m\n\u001b[1;32m      5\u001b[0m       \u001b[0mhistory_rewards\u001b[0m\u001b[0;34m.\u001b[0m\u001b[0mappend\u001b[0m\u001b[0;34m(\u001b[0m\u001b[0mnp\u001b[0m\u001b[0;34m.\u001b[0m\u001b[0mmean\u001b[0m\u001b[0;34m(\u001b[0m\u001b[0;34m[\u001b[0m\u001b[0mgenerate_session\u001b[0m\u001b[0;34m(\u001b[0m\u001b[0magent\u001b[0m\u001b[0;34m,\u001b[0m \u001b[0mtest_env\u001b[0m\u001b[0;34m)\u001b[0m \u001b[0;32mfor\u001b[0m \u001b[0m_\u001b[0m \u001b[0;32min\u001b[0m \u001b[0mrange\u001b[0m\u001b[0;34m(\u001b[0m\u001b[0;36m50\u001b[0m\u001b[0;34m)\u001b[0m\u001b[0;34m]\u001b[0m\u001b[0;34m)\u001b[0m\u001b[0;34m)\u001b[0m\u001b[0;34m\u001b[0m\u001b[0;34m\u001b[0m\u001b[0m\n",
            "\u001b[0;32m<ipython-input-20-2a808f5deb09>\u001b[0m in \u001b[0;36mtrain\u001b[0;34m(self, sample)\u001b[0m\n\u001b[1;32m     15\u001b[0m \u001b[0;34m\u001b[0m\u001b[0m\n\u001b[1;32m     16\u001b[0m     \u001b[0;32mif\u001b[0m \u001b[0mself\u001b[0m\u001b[0;34m.\u001b[0m\u001b[0mtransform\u001b[0m\u001b[0;34m:\u001b[0m\u001b[0;34m\u001b[0m\u001b[0;34m\u001b[0m\u001b[0m\n\u001b[0;32m---> 17\u001b[0;31m       \u001b[0mstates\u001b[0m \u001b[0;34m=\u001b[0m \u001b[0mself\u001b[0m\u001b[0;34m.\u001b[0m\u001b[0mtransform\u001b[0m\u001b[0;34m.\u001b[0m\u001b[0mtransform\u001b[0m\u001b[0;34m(\u001b[0m\u001b[0mstates\u001b[0m\u001b[0;34m)\u001b[0m\u001b[0;34m\u001b[0m\u001b[0;34m\u001b[0m\u001b[0m\n\u001b[0m\u001b[1;32m     18\u001b[0m       \u001b[0mnext_states\u001b[0m \u001b[0;34m=\u001b[0m \u001b[0mself\u001b[0m\u001b[0;34m.\u001b[0m\u001b[0mtransform\u001b[0m\u001b[0;34m.\u001b[0m\u001b[0mtransform\u001b[0m\u001b[0;34m(\u001b[0m\u001b[0mnext_states\u001b[0m\u001b[0;34m)\u001b[0m\u001b[0;34m\u001b[0m\u001b[0;34m\u001b[0m\u001b[0m\n\u001b[1;32m     19\u001b[0m \u001b[0;34m\u001b[0m\u001b[0m\n",
            "\u001b[0;32m/usr/local/lib/python3.6/dist-packages/sklearn/preprocessing/_encoders.py\u001b[0m in \u001b[0;36mtransform\u001b[0;34m(self, X)\u001b[0m\n\u001b[1;32m    388\u001b[0m         \u001b[0mcheck_is_fitted\u001b[0m\u001b[0;34m(\u001b[0m\u001b[0mself\u001b[0m\u001b[0;34m)\u001b[0m\u001b[0;34m\u001b[0m\u001b[0;34m\u001b[0m\u001b[0m\n\u001b[1;32m    389\u001b[0m         \u001b[0;31m# validation of X happens in _check_X called by _transform\u001b[0m\u001b[0;34m\u001b[0m\u001b[0;34m\u001b[0m\u001b[0;34m\u001b[0m\u001b[0m\n\u001b[0;32m--> 390\u001b[0;31m         \u001b[0mX_int\u001b[0m\u001b[0;34m,\u001b[0m \u001b[0mX_mask\u001b[0m \u001b[0;34m=\u001b[0m \u001b[0mself\u001b[0m\u001b[0;34m.\u001b[0m\u001b[0m_transform\u001b[0m\u001b[0;34m(\u001b[0m\u001b[0mX\u001b[0m\u001b[0;34m,\u001b[0m \u001b[0mhandle_unknown\u001b[0m\u001b[0;34m=\u001b[0m\u001b[0mself\u001b[0m\u001b[0;34m.\u001b[0m\u001b[0mhandle_unknown\u001b[0m\u001b[0;34m)\u001b[0m\u001b[0;34m\u001b[0m\u001b[0;34m\u001b[0m\u001b[0m\n\u001b[0m\u001b[1;32m    391\u001b[0m \u001b[0;34m\u001b[0m\u001b[0m\n\u001b[1;32m    392\u001b[0m         \u001b[0mn_samples\u001b[0m\u001b[0;34m,\u001b[0m \u001b[0mn_features\u001b[0m \u001b[0;34m=\u001b[0m \u001b[0mX_int\u001b[0m\u001b[0;34m.\u001b[0m\u001b[0mshape\u001b[0m\u001b[0;34m\u001b[0m\u001b[0;34m\u001b[0m\u001b[0m\n",
            "\u001b[0;32m/usr/local/lib/python3.6/dist-packages/sklearn/preprocessing/_encoders.py\u001b[0m in \u001b[0;36m_transform\u001b[0;34m(self, X, handle_unknown)\u001b[0m\n\u001b[1;32m    140\u001b[0m             \u001b[0;31m# already called above.\u001b[0m\u001b[0;34m\u001b[0m\u001b[0;34m\u001b[0m\u001b[0;34m\u001b[0m\u001b[0m\n\u001b[1;32m    141\u001b[0m             _, encoded = _encode(Xi, self.categories_[i], encode=True,\n\u001b[0;32m--> 142\u001b[0;31m                                  check_unknown=False)\n\u001b[0m\u001b[1;32m    143\u001b[0m             \u001b[0mX_int\u001b[0m\u001b[0;34m[\u001b[0m\u001b[0;34m:\u001b[0m\u001b[0;34m,\u001b[0m \u001b[0mi\u001b[0m\u001b[0;34m]\u001b[0m \u001b[0;34m=\u001b[0m \u001b[0mencoded\u001b[0m\u001b[0;34m\u001b[0m\u001b[0;34m\u001b[0m\u001b[0m\n\u001b[1;32m    144\u001b[0m \u001b[0;34m\u001b[0m\u001b[0m\n",
            "\u001b[0;32m/usr/local/lib/python3.6/dist-packages/sklearn/preprocessing/_label.py\u001b[0m in \u001b[0;36m_encode\u001b[0;34m(values, uniques, encode, check_unknown)\u001b[0m\n\u001b[1;32m    116\u001b[0m     \u001b[0;32melse\u001b[0m\u001b[0;34m:\u001b[0m\u001b[0;34m\u001b[0m\u001b[0;34m\u001b[0m\u001b[0m\n\u001b[1;32m    117\u001b[0m         return _encode_numpy(values, uniques, encode,\n\u001b[0;32m--> 118\u001b[0;31m                              check_unknown=check_unknown)\n\u001b[0m\u001b[1;32m    119\u001b[0m \u001b[0;34m\u001b[0m\u001b[0m\n\u001b[1;32m    120\u001b[0m \u001b[0;34m\u001b[0m\u001b[0m\n",
            "\u001b[0;32m/usr/local/lib/python3.6/dist-packages/sklearn/preprocessing/_label.py\u001b[0m in \u001b[0;36m_encode_numpy\u001b[0;34m(values, uniques, encode, check_unknown)\u001b[0m\n\u001b[1;32m     49\u001b[0m                 raise ValueError(\"y contains previously unseen labels: %s\"\n\u001b[1;32m     50\u001b[0m                                  % str(diff))\n\u001b[0;32m---> 51\u001b[0;31m         \u001b[0mencoded\u001b[0m \u001b[0;34m=\u001b[0m \u001b[0mnp\u001b[0m\u001b[0;34m.\u001b[0m\u001b[0msearchsorted\u001b[0m\u001b[0;34m(\u001b[0m\u001b[0muniques\u001b[0m\u001b[0;34m,\u001b[0m \u001b[0mvalues\u001b[0m\u001b[0;34m)\u001b[0m\u001b[0;34m\u001b[0m\u001b[0;34m\u001b[0m\u001b[0m\n\u001b[0m\u001b[1;32m     52\u001b[0m         \u001b[0;32mreturn\u001b[0m \u001b[0muniques\u001b[0m\u001b[0;34m,\u001b[0m \u001b[0mencoded\u001b[0m\u001b[0;34m\u001b[0m\u001b[0;34m\u001b[0m\u001b[0m\n\u001b[1;32m     53\u001b[0m     \u001b[0;32melse\u001b[0m\u001b[0;34m:\u001b[0m\u001b[0;34m\u001b[0m\u001b[0;34m\u001b[0m\u001b[0m\n",
            "\u001b[0;32m<__array_function__ internals>\u001b[0m in \u001b[0;36msearchsorted\u001b[0;34m(*args, **kwargs)\u001b[0m\n",
            "\u001b[0;32m/usr/local/lib/python3.6/dist-packages/numpy/core/fromnumeric.py\u001b[0m in \u001b[0;36msearchsorted\u001b[0;34m(a, v, side, sorter)\u001b[0m\n\u001b[1;32m   1339\u001b[0m \u001b[0;34m\u001b[0m\u001b[0m\n\u001b[1;32m   1340\u001b[0m     \"\"\"\n\u001b[0;32m-> 1341\u001b[0;31m     \u001b[0;32mreturn\u001b[0m \u001b[0m_wrapfunc\u001b[0m\u001b[0;34m(\u001b[0m\u001b[0ma\u001b[0m\u001b[0;34m,\u001b[0m \u001b[0;34m'searchsorted'\u001b[0m\u001b[0;34m,\u001b[0m \u001b[0mv\u001b[0m\u001b[0;34m,\u001b[0m \u001b[0mside\u001b[0m\u001b[0;34m=\u001b[0m\u001b[0mside\u001b[0m\u001b[0;34m,\u001b[0m \u001b[0msorter\u001b[0m\u001b[0;34m=\u001b[0m\u001b[0msorter\u001b[0m\u001b[0;34m)\u001b[0m\u001b[0;34m\u001b[0m\u001b[0;34m\u001b[0m\u001b[0m\n\u001b[0m\u001b[1;32m   1342\u001b[0m \u001b[0;34m\u001b[0m\u001b[0m\n\u001b[1;32m   1343\u001b[0m \u001b[0;34m\u001b[0m\u001b[0m\n",
            "\u001b[0;32m/usr/local/lib/python3.6/dist-packages/numpy/core/fromnumeric.py\u001b[0m in \u001b[0;36m_wrapfunc\u001b[0;34m(obj, method, *args, **kwds)\u001b[0m\n\u001b[1;32m     59\u001b[0m \u001b[0;34m\u001b[0m\u001b[0m\n\u001b[1;32m     60\u001b[0m     \u001b[0;32mtry\u001b[0m\u001b[0;34m:\u001b[0m\u001b[0;34m\u001b[0m\u001b[0;34m\u001b[0m\u001b[0m\n\u001b[0;32m---> 61\u001b[0;31m         \u001b[0;32mreturn\u001b[0m \u001b[0mbound\u001b[0m\u001b[0;34m(\u001b[0m\u001b[0;34m*\u001b[0m\u001b[0margs\u001b[0m\u001b[0;34m,\u001b[0m \u001b[0;34m**\u001b[0m\u001b[0mkwds\u001b[0m\u001b[0;34m)\u001b[0m\u001b[0;34m\u001b[0m\u001b[0;34m\u001b[0m\u001b[0m\n\u001b[0m\u001b[1;32m     62\u001b[0m     \u001b[0;32mexcept\u001b[0m \u001b[0mTypeError\u001b[0m\u001b[0;34m:\u001b[0m\u001b[0;34m\u001b[0m\u001b[0;34m\u001b[0m\u001b[0m\n\u001b[1;32m     63\u001b[0m         \u001b[0;31m# A TypeError occurs if the object does have such a method in its\u001b[0m\u001b[0;34m\u001b[0m\u001b[0;34m\u001b[0m\u001b[0;34m\u001b[0m\u001b[0m\n",
            "\u001b[0;31mKeyboardInterrupt\u001b[0m: "
          ]
        }
      ]
    },
    {
      "cell_type": "code",
      "metadata": {
        "id": "G1P6g4DHIGgP",
        "colab_type": "code",
        "colab": {
          "base_uri": "https://localhost:8080/",
          "height": 55
        },
        "outputId": "e017b420-4d20-4ca4-e61b-1d7a269b6be6"
      },
      "source": [
        "%%time\n",
        "iters = 1000\n",
        "\n",
        "validation_simple = [{'type': 'simple_agent', 'reward': generate_session(simple_agent, test_env)} for _ in range(iters)]\n",
        "validation_agent = [{'type': 'agent', 'reward': generate_session(agent, test_env)} for _ in range(iters)]\n",
        "\n",
        "val_df = pd.DataFrame(validation_simple + validation_agent)"
      ],
      "execution_count": 39,
      "outputs": [
        {
          "output_type": "stream",
          "text": [
            "CPU times: user 2min 15s, sys: 799 ms, total: 2min 16s\n",
            "Wall time: 2min 16s\n"
          ],
          "name": "stdout"
        }
      ]
    },
    {
      "cell_type": "code",
      "metadata": {
        "id": "nELo_bEqRhfP",
        "colab_type": "code",
        "colab": {
          "base_uri": "https://localhost:8080/",
          "height": 365
        },
        "outputId": "bc7135e7-cfaf-4eed-9e6f-e908d6917aab"
      },
      "source": [
        "sns.catplot(x=\"type\", y=\"reward\",kind='box', data=val_df);"
      ],
      "execution_count": 41,
      "outputs": [
        {
          "output_type": "display_data",
          "data": {
            "image/png": "[encoded data removed]",
            "text/plain": [
              "<Figure size 360x360 with 1 Axes>"
            ]
          },
          "metadata": {
            "tags": []
          }
        }
      ]
    },
    {
      "cell_type": "code",
      "metadata": {
        "id": "EKXusdIgqN1D",
        "colab_type": "code",
        "colab": {
          "base_uri": "https://localhost:8080/",
          "height": 287
        },
        "outputId": "2a4b06af-c875-42ca-b25e-efe8a675dcd8"
      },
      "source": [
        "print(val_df.loc[val_df['type'] == 'agent', 'reward'].median())\n",
        "val_df.loc[val_df['type'] == 'agent', 'reward'].hist(bins=50);"
      ],
      "execution_count": 42,
      "outputs": [
        {
          "output_type": "stream",
          "text": [
            "272.29166666666663\n"
          ],
          "name": "stdout"
        },
        {
          "output_type": "display_data",
          "data": {
            "image/png": "[encoded data removed]",
            "text/plain": [
              "<Figure size 432x288 with 1 Axes>"
            ]
          },
          "metadata": {
            "tags": []
          }
        }
      ]
    },
    {
      "cell_type": "code",
      "metadata": {
        "id": "hrJsQJR6qqhv",
        "colab_type": "code",
        "colab": {
          "base_uri": "https://localhost:8080/",
          "height": 289
        },
        "outputId": "d6064fa9-0924-4740-adec-215fa2ce6da3"
      },
      "source": [
        "print(val_df.loc[val_df['type'] == 'simple_agent', 'reward'].median())\n",
        "val_df.loc[val_df['type'] == 'simple_agent', 'reward'].hist(bins=50);"
      ],
      "execution_count": 43,
      "outputs": [
        {
          "output_type": "stream",
          "text": [
            "256.40833333333336\n"
          ],
          "name": "stdout"
        },
        {
          "output_type": "display_data",
          "data": {
            "image/png": "[encoded data removed]",
            "text/plain": [
              "<Figure size 432x288 with 1 Axes>"
            ]
          },
          "metadata": {
            "tags": []
          }
        }
      ]
    },
    {
      "cell_type": "code",
      "metadata": {
        "id": "Fj0uNjOSOrBb",
        "colab_type": "code",
        "colab": {}
      },
      "source": [
        "torch.save(network, '/content/drive/My Drive/torch-network')"
      ],
      "execution_count": 45,
      "outputs": []
    },
    {
      "cell_type": "code",
      "metadata": {
        "id": "3owtekc3PVA1",
        "colab_type": "code",
        "colab": {}
      },
      "source": [
        "pickle.dump(encoder, open('/content/drive/My Drive/sklearn-transformer', 'wb'))"
      ],
      "execution_count": 46,
      "outputs": []
    },
    {
      "cell_type": "code",
      "metadata": {
        "id": "EnCmk4mWPevE",
        "colab_type": "code",
        "colab": {}
      },
      "source": [
        ""
      ],
      "execution_count": null,
      "outputs": []
    }
  ]
}