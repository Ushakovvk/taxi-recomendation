{
 "cells": [
  {
   "cell_type": "code",
   "execution_count": 1,
   "metadata": {},
   "outputs": [],
   "source": [
    "!pip install -q geopandas"
   ]
  },
  {
   "cell_type": "code",
   "execution_count": 1,
   "metadata": {},
   "outputs": [],
   "source": [
    "import seaborn as sns\n",
    "import matplotlib.pyplot as plt\n",
    "sns.set(style=\"ticks\", color_codes=True)"
   ]
  },
  {
   "cell_type": "code",
   "execution_count": 2,
   "metadata": {},
   "outputs": [],
   "source": [
    "path_to_data = 'data/green_taxi_prepare___/'\n",
    "path_to_geoinfo = 'shape/'"
   ]
  },
  {
   "cell_type": "code",
   "execution_count": 3,
   "metadata": {},
   "outputs": [],
   "source": [
    "from pyspark.sql import SparkSession\n",
    "from pyspark.sql.functions import array, lit, rand\n",
    "\n",
    "import pandas as pd\n",
    "import numpy as np\n",
    "\n",
    "from tqdm.auto import tqdm\n",
    "from IPython.display import clear_output\n",
    "\n",
    "import pickle\n",
    "\n",
    "import geopandas as gpd"
   ]
  },
  {
   "cell_type": "code",
   "execution_count": 37,
   "metadata": {},
   "outputs": [],
   "source": [
    "taxi_zone = gpd.read_file('data/shape/taxi_zones.shp')\n",
    "taxi_zone = taxi_zone.set_index('OBJECTID')\n",
    "taxi_zone['lon_center'] = taxi_zone.geometry.centroid.x\n",
    "taxi_zone['lat_center'] = taxi_zone.geometry.centroid.y\n",
    "taxi_zone = taxi_zone[['lon_center', 'lat_center']]"
   ]
  },
  {
   "cell_type": "code",
   "execution_count": 5,
   "metadata": {},
   "outputs": [],
   "source": [
    "MEMORY_SIZE = '5g'\n",
    "spark = SparkSession \\\n",
    "    .builder \\\n",
    "    .config('spark.driver.memory', MEMORY_SIZE) \\\n",
    "    .appName('spark-taxi') \\\n",
    "    .getOrCreate()"
   ]
  },
  {
   "cell_type": "code",
   "execution_count": 6,
   "metadata": {},
   "outputs": [
    {
     "name": "stdout",
     "output_type": "stream",
     "text": [
      "+-------------------+------------+------+-------------------+------------+------------------+-----------------+\n",
      "|           datetime|       state|action|             reward|  next_state|     duration_trip|             fare|\n",
      "+-------------------+------------+------+-------------------+------------+------------------+-----------------+\n",
      "|2019-06-28 03:39:19| [243, 3, 6]|   243| -901.7806545153607| [244, 6, 6]|198.31666666666666| 9.80267881797262|\n",
      "|2019-06-07 08:55:16| [243, 8, 6]|   243| -71.79497935103652| [244, 9, 6]|27.033333333333335| 8.37168731563016|\n",
      "|2019-06-30 16:24:01|[243, 16, 1]|   243|-29.165280925105023|[244, 16, 1]|13.116666666666667|6.418052408228307|\n",
      "+-------------------+------------+------+-------------------+------------+------------------+-----------------+\n",
      "only showing top 3 rows\n",
      "\n",
      "root\n",
      " |-- datetime: timestamp (nullable = true)\n",
      " |-- state: struct (nullable = true)\n",
      " |    |-- location: integer (nullable = true)\n",
      " |    |-- hour: integer (nullable = true)\n",
      " |    |-- weekday: integer (nullable = true)\n",
      " |-- action: integer (nullable = true)\n",
      " |-- reward: double (nullable = true)\n",
      " |-- next_state: struct (nullable = true)\n",
      " |    |-- location: integer (nullable = true)\n",
      " |    |-- hour: integer (nullable = true)\n",
      " |    |-- weekday: integer (nullable = true)\n",
      " |-- duration_trip: double (nullable = true)\n",
      " |-- fare: double (nullable = true)\n",
      "\n"
     ]
    }
   ],
   "source": [
    "data = spark.read.parquet(path_to_data)\n",
    "#data.cache()\n",
    "data.show(3)\n",
    "data.printSchema()"
   ]
  },
  {
   "cell_type": "code",
   "execution_count": 7,
   "metadata": {},
   "outputs": [],
   "source": [
    "# train_data = data.filter('datetime >= \"2019-12\"')\n",
    "# test_data = data.filter('datetime >= \"2019-12\"')\n",
    "\n",
    "train_data = data\n",
    "test_data = data"
   ]
  },
  {
   "cell_type": "code",
   "execution_count": 8,
   "metadata": {},
   "outputs": [],
   "source": [
    "train_data = train_data.select(array('state.*').alias('state'),\n",
    "                   'action',\n",
    "                   'reward',\n",
    "                   array('next_state.*').alias('next_state'),\n",
    "                   'duration_trip', 'fare').cache()\n",
    "\n",
    "test_data = test_data.select(array('state.*').alias('state'),\n",
    "                   'action',\n",
    "                   'reward',\n",
    "                   array('next_state.*').alias('next_state'),\n",
    "                   'duration_trip', 'fare').cache()"
   ]
  },
  {
   "cell_type": "code",
   "execution_count": 9,
   "metadata": {},
   "outputs": [],
   "source": [
    "class SparkDataset:\n",
    "\n",
    "    def __init__(self, df):\n",
    "        self.df = df\n",
    "\n",
    "    def sample_generator(self):\n",
    "        gen = self.df.orderBy(rand()).toLocalIterator()\n",
    "        for sample in gen:\n",
    "            yield {'state': tuple(sample['state']), 'action': sample['action'], 'reward': sample['reward'], \n",
    "                   'next_state': tuple(sample['next_state']), 'duration_trip': sample['duration_trip'], \n",
    "                  'fare': sample['fare']}\n",
    "\n",
    "    def __iter__(self):\n",
    "        return self.sample_generator()"
   ]
  },
  {
   "cell_type": "code",
   "execution_count": 10,
   "metadata": {},
   "outputs": [],
   "source": [
    "class TaxiEnv:\n",
    "    \n",
    "    def __init__(self, dataset):\n",
    "        self.env = defaultdict(lambda: defaultdict(list))\n",
    "        i = 0\n",
    "        for sample in dataset:\n",
    "            \n",
    "            s = sample['state']\n",
    "            a = sample['action']\n",
    "            r = sample['fare']\n",
    "            next_s = sample['next_state']\n",
    "            d = sample['duration_trip']\n",
    "            \n",
    "            self.env[s][a].append((next_s, r, d))\n",
    "            i += 1\n",
    "        print(i)\n",
    "            \n",
    "        self.state_count = len(self.env.keys())\n",
    "        \n",
    "    def step(self, state, action):\n",
    "        if self.env[state][action]:\n",
    "            x = list(map(list, zip(*self.env[state][action])))\n",
    "            i = np.random.choice(len(x[2]))\n",
    "            next_state = x[0][i]\n",
    "            reward = x[1][i]\n",
    "            duration = x[2][i]\n",
    "        else:\n",
    "            reward = 0.\n",
    "            duration = 0.\n",
    "            next_state = self.get_random_state()\n",
    "        return next_state, reward, duration\n",
    "    \n",
    "    def get_random_state(self):\n",
    "        i = np.random.choice(self.state_count)\n",
    "        key = list(self.env.keys())[i]\n",
    "        return key"
   ]
  },
  {
   "cell_type": "code",
   "execution_count": 11,
   "metadata": {},
   "outputs": [],
   "source": [
    "class SimpleAgent:\n",
    "    \n",
    "    def __init__(self, best_actions=[7]):\n",
    "        self.best_actions = best_actions\n",
    "\n",
    "    def get_best_action(self, state):\n",
    "        action = np.random.choice(self.best_actions)\n",
    "        return int(action)"
   ]
  },
  {
   "cell_type": "code",
   "execution_count": 38,
   "metadata": {},
   "outputs": [],
   "source": [
    "class SimpleAgent_v2:\n",
    "    \n",
    "    def __init__(self, best_actions=[7,74]):\n",
    "        self.best_actions = best_actions\n",
    "\n",
    "    def get_best_action(self, state):\n",
    "        if state[0] in taxi_zone.index:\n",
    "            state_lon, state_lat = taxi_zone.loc[state[0]]\n",
    "            dists = {}\n",
    "            for action in self.best_actions:\n",
    "                dx = state_lon - taxi_zone.loc[action, 'lon_center']\n",
    "                dy = state_lat - taxi_zone.loc[action, 'lat_center']\n",
    "                dists[action] = ((dx)**2 + (dy)**2)**0.5\n",
    "            return min(dists, key=dists.get)\n",
    "        else:\n",
    "            return 7"
   ]
  },
  {
   "cell_type": "code",
   "execution_count": 13,
   "metadata": {},
   "outputs": [],
   "source": [
    "def generate_session(agent, env, t_max=8*60):\n",
    "    reward = 0\n",
    "    duration = 0\n",
    "    state = env.get_random_state()\n",
    "    i = 0\n",
    "    while duration < t_max and i < 300:\n",
    "        action = agent.get_best_action(state)\n",
    "        next_s, r, d = env.step(state, action)\n",
    "        reward += r\n",
    "        duration += d\n",
    "        state = next_s\n",
    "        i += 1\n",
    "    \n",
    "    if duration:\n",
    "        return reward / (duration / 60)\n",
    "    else:\n",
    "        return 0"
   ]
  },
  {
   "cell_type": "code",
   "execution_count": 14,
   "metadata": {},
   "outputs": [],
   "source": [
    "from collections import defaultdict\n",
    "import numpy as np\n",
    "\n",
    "from numpy.random import default_rng\n",
    "rg = default_rng(12345)\n",
    "\n",
    "\n",
    "class QLearningAgent:\n",
    "    def __init__(self, alpha, discount, possible_actions, transform=None):\n",
    "        \"\"\"\n",
    "        Q-Learning Agent\n",
    "        based on https://inst.eecs.berkeley.edu/~cs188/sp19/projects.html\n",
    "        Instance variables you have access to\n",
    "          - self.alpha (learning rate)\n",
    "          - self.discount (discount rate aka gamma)\n",
    "\n",
    "        Functions you should use\n",
    "          - self.get_legal_actions(state) {state, hashable -> list of actions, each is hashable}\n",
    "            which returns legal actions for a state\n",
    "          - self.get_qvalue(state,action)\n",
    "            which returns Q(state,action)\n",
    "          - self.set_qvalue(state,action,value)\n",
    "            which sets Q(state,action) := value\n",
    "        !!!Important!!!\n",
    "        Note: please avoid using self._qValues directly. \n",
    "            There's a special self.get_qvalue/set_qvalue for that.\n",
    "        \"\"\"\n",
    "\n",
    "        self.possible_actions = possible_actions\n",
    "        self._qvalues = defaultdict(lambda: defaultdict(lambda: 0))\n",
    "        self.alpha = alpha\n",
    "        self.discount = discount\n",
    "        \n",
    "        self.transform = transform\n",
    "            \n",
    "\n",
    "    def get_qvalue(self, state, action):\n",
    "        \"\"\" Returns Q(state,action) \"\"\"\n",
    "        return self._qvalues[state][action]\n",
    "        \n",
    "\n",
    "    def set_qvalue(self, state, action, value):\n",
    "        \"\"\" Sets the Qvalue for [state,action] to the given value \"\"\"\n",
    "        self._qvalues[state][action] = value\n",
    "        \n",
    "\n",
    "    def get_value(self, state):\n",
    "        \"\"\"\n",
    "        Compute your agent's estimate of V(s) using current q-values\n",
    "        V(s) = max_over_action Q(state,action) over possible actions.\n",
    "        Note: please take into account that q-values can be negative.\n",
    "        \"\"\"\n",
    "\n",
    "        q_values = [self.get_qvalue(state, action) for action in self.possible_actions]\n",
    "        return max(q_values)\n",
    "\n",
    "    def update(self, state, action, reward, next_state):\n",
    "        \"\"\"\n",
    "        You should do your Q-Value update here:\n",
    "           Q(s,a) := (1 - alpha) * Q(s,a) + alpha * (r + gamma * V(s'))\n",
    "        \"\"\"\n",
    "        if self.transform:\n",
    "            state = self.transform(state)\n",
    "            next_state = self.transform(next_state)\n",
    "            \n",
    "        # agent parameters\n",
    "        gamma = self.discount\n",
    "        learning_rate = self.alpha\n",
    "        value = self.get_value(next_state)\n",
    "        q_value = (1.0 - learning_rate) * self.get_qvalue(state, action) + learning_rate * (reward + gamma * value)\n",
    "\n",
    "        self.set_qvalue(state, action, q_value)\n",
    "\n",
    "\n",
    "    def get_best_action(self, state):\n",
    "        \"\"\"\n",
    "        Compute the best action to take in a state (using current q-values). \n",
    "        \"\"\"\n",
    "        \n",
    "        if self.transform:\n",
    "            state = self.transform(state)\n",
    "\n",
    "        q_values = {action: self.get_qvalue(state, action) for action in self.possible_actions}\n",
    "\n",
    "        return max(q_values, key=q_values.get)"
   ]
  },
  {
   "cell_type": "code",
   "execution_count": 15,
   "metadata": {},
   "outputs": [],
   "source": [
    "train_dataset = SparkDataset(train_data)\n",
    "test_dataset = SparkDataset(test_data)"
   ]
  },
  {
   "cell_type": "code",
   "execution_count": 16,
   "metadata": {},
   "outputs": [
    {
     "name": "stdout",
     "output_type": "stream",
     "text": [
      "828844\n"
     ]
    }
   ],
   "source": [
    "test_env = TaxiEnv(test_dataset)"
   ]
  },
  {
   "cell_type": "code",
   "execution_count": 43,
   "metadata": {},
   "outputs": [
    {
     "data": {
      "text/plain": [
       "29.4863407257273"
      ]
     },
     "execution_count": 43,
     "metadata": {},
     "output_type": "execute_result"
    }
   ],
   "source": [
    "simple_agent = SimpleAgent_v2([74, 75, 41, 82, 7, 166, 42, 95, 97, 129])\n",
    "np.mean([generate_session(simple_agent, test_env) for _ in range(100)])"
   ]
  },
  {
   "cell_type": "code",
   "execution_count": 18,
   "metadata": {},
   "outputs": [],
   "source": [
    "n_actions = 266\n",
    "agent = QLearningAgent(alpha=0.00001, discount=0.95, possible_actions=range(1, n_actions))\n",
    "history = []\n",
    "iters = []\n",
    "i_iter =  1"
   ]
  },
  {
   "cell_type": "code",
   "execution_count": 19,
   "metadata": {},
   "outputs": [
    {
     "data": {
      "image/png": "[encoded data removed]",
      "text/plain": [
       "<Figure size 432x288 with 1 Axes>"
      ]
     },
     "metadata": {},
     "output_type": "display_data"
    },
    {
     "ename": "KeyboardInterrupt",
     "evalue": "",
     "output_type": "error",
     "traceback": [
      "\u001b[0;31m---------------------------------------------------------------------------\u001b[0m",
      "\u001b[0;31mKeyboardInterrupt\u001b[0m                         Traceback (most recent call last)",
      "\u001b[0;32m<ipython-input-19-e54f1e622349>\u001b[0m in \u001b[0;36m<module>\u001b[0;34m\u001b[0m\n\u001b[1;32m     11\u001b[0m         \u001b[0;32mif\u001b[0m \u001b[0;32mnot\u001b[0m \u001b[0mi_batch\u001b[0m \u001b[0;34m%\u001b[0m \u001b[0;36m100000\u001b[0m\u001b[0;34m:\u001b[0m\u001b[0;34m\u001b[0m\u001b[0;34m\u001b[0m\u001b[0m\n\u001b[1;32m     12\u001b[0m             \u001b[0;31m# agent.alpha *= 0.99\u001b[0m\u001b[0;34m\u001b[0m\u001b[0;34m\u001b[0m\u001b[0;34m\u001b[0m\u001b[0m\n\u001b[0;32m---> 13\u001b[0;31m             \u001b[0mhistory\u001b[0m\u001b[0;34m.\u001b[0m\u001b[0mappend\u001b[0m\u001b[0;34m(\u001b[0m\u001b[0mnp\u001b[0m\u001b[0;34m.\u001b[0m\u001b[0mmean\u001b[0m\u001b[0;34m(\u001b[0m\u001b[0;34m[\u001b[0m\u001b[0mgenerate_session\u001b[0m\u001b[0;34m(\u001b[0m\u001b[0magent\u001b[0m\u001b[0;34m,\u001b[0m \u001b[0mtest_env\u001b[0m\u001b[0;34m)\u001b[0m \u001b[0;32mfor\u001b[0m \u001b[0m_\u001b[0m \u001b[0;32min\u001b[0m \u001b[0mrange\u001b[0m\u001b[0;34m(\u001b[0m\u001b[0;36m100\u001b[0m\u001b[0;34m)\u001b[0m\u001b[0;34m]\u001b[0m\u001b[0;34m)\u001b[0m\u001b[0;34m)\u001b[0m\u001b[0;34m\u001b[0m\u001b[0;34m\u001b[0m\u001b[0m\n\u001b[0m\u001b[1;32m     14\u001b[0m             \u001b[0miters\u001b[0m\u001b[0;34m.\u001b[0m\u001b[0mappend\u001b[0m\u001b[0;34m(\u001b[0m\u001b[0mi_iter\u001b[0m\u001b[0;34m)\u001b[0m\u001b[0;34m\u001b[0m\u001b[0;34m\u001b[0m\u001b[0m\n\u001b[1;32m     15\u001b[0m             \u001b[0mclear_output\u001b[0m\u001b[0;34m(\u001b[0m\u001b[0;32mTrue\u001b[0m\u001b[0;34m)\u001b[0m\u001b[0;34m\u001b[0m\u001b[0;34m\u001b[0m\u001b[0m\n",
      "\u001b[0;32m<ipython-input-19-e54f1e622349>\u001b[0m in \u001b[0;36m<listcomp>\u001b[0;34m(.0)\u001b[0m\n\u001b[1;32m     11\u001b[0m         \u001b[0;32mif\u001b[0m \u001b[0;32mnot\u001b[0m \u001b[0mi_batch\u001b[0m \u001b[0;34m%\u001b[0m \u001b[0;36m100000\u001b[0m\u001b[0;34m:\u001b[0m\u001b[0;34m\u001b[0m\u001b[0;34m\u001b[0m\u001b[0m\n\u001b[1;32m     12\u001b[0m             \u001b[0;31m# agent.alpha *= 0.99\u001b[0m\u001b[0;34m\u001b[0m\u001b[0;34m\u001b[0m\u001b[0;34m\u001b[0m\u001b[0m\n\u001b[0;32m---> 13\u001b[0;31m             \u001b[0mhistory\u001b[0m\u001b[0;34m.\u001b[0m\u001b[0mappend\u001b[0m\u001b[0;34m(\u001b[0m\u001b[0mnp\u001b[0m\u001b[0;34m.\u001b[0m\u001b[0mmean\u001b[0m\u001b[0;34m(\u001b[0m\u001b[0;34m[\u001b[0m\u001b[0mgenerate_session\u001b[0m\u001b[0;34m(\u001b[0m\u001b[0magent\u001b[0m\u001b[0;34m,\u001b[0m \u001b[0mtest_env\u001b[0m\u001b[0;34m)\u001b[0m \u001b[0;32mfor\u001b[0m \u001b[0m_\u001b[0m \u001b[0;32min\u001b[0m \u001b[0mrange\u001b[0m\u001b[0;34m(\u001b[0m\u001b[0;36m100\u001b[0m\u001b[0;34m)\u001b[0m\u001b[0;34m]\u001b[0m\u001b[0;34m)\u001b[0m\u001b[0;34m)\u001b[0m\u001b[0;34m\u001b[0m\u001b[0;34m\u001b[0m\u001b[0m\n\u001b[0m\u001b[1;32m     14\u001b[0m             \u001b[0miters\u001b[0m\u001b[0;34m.\u001b[0m\u001b[0mappend\u001b[0m\u001b[0;34m(\u001b[0m\u001b[0mi_iter\u001b[0m\u001b[0;34m)\u001b[0m\u001b[0;34m\u001b[0m\u001b[0;34m\u001b[0m\u001b[0m\n\u001b[1;32m     15\u001b[0m             \u001b[0mclear_output\u001b[0m\u001b[0;34m(\u001b[0m\u001b[0;32mTrue\u001b[0m\u001b[0;34m)\u001b[0m\u001b[0;34m\u001b[0m\u001b[0;34m\u001b[0m\u001b[0m\n",
      "\u001b[0;32m<ipython-input-10-2368dbcb2cd4>\u001b[0m in \u001b[0;36mgenerate_session\u001b[0;34m(agent, env, t_max)\u001b[0m\n\u001b[1;32m      6\u001b[0m     \u001b[0;32mwhile\u001b[0m \u001b[0mduration\u001b[0m \u001b[0;34m<\u001b[0m \u001b[0mt_max\u001b[0m \u001b[0;32mand\u001b[0m \u001b[0mi\u001b[0m \u001b[0;34m<\u001b[0m \u001b[0;36m300\u001b[0m\u001b[0;34m:\u001b[0m\u001b[0;34m\u001b[0m\u001b[0;34m\u001b[0m\u001b[0m\n\u001b[1;32m      7\u001b[0m         \u001b[0maction\u001b[0m \u001b[0;34m=\u001b[0m \u001b[0magent\u001b[0m\u001b[0;34m.\u001b[0m\u001b[0mget_best_action\u001b[0m\u001b[0;34m(\u001b[0m\u001b[0mstate\u001b[0m\u001b[0;34m)\u001b[0m\u001b[0;34m\u001b[0m\u001b[0;34m\u001b[0m\u001b[0m\n\u001b[0;32m----> 8\u001b[0;31m         \u001b[0mnext_s\u001b[0m\u001b[0;34m,\u001b[0m \u001b[0mr\u001b[0m\u001b[0;34m,\u001b[0m \u001b[0md\u001b[0m \u001b[0;34m=\u001b[0m \u001b[0menv\u001b[0m\u001b[0;34m.\u001b[0m\u001b[0mstep\u001b[0m\u001b[0;34m(\u001b[0m\u001b[0mstate\u001b[0m\u001b[0;34m,\u001b[0m \u001b[0maction\u001b[0m\u001b[0;34m)\u001b[0m\u001b[0;34m\u001b[0m\u001b[0;34m\u001b[0m\u001b[0m\n\u001b[0m\u001b[1;32m      9\u001b[0m         \u001b[0mreward\u001b[0m \u001b[0;34m+=\u001b[0m \u001b[0mr\u001b[0m\u001b[0;34m\u001b[0m\u001b[0;34m\u001b[0m\u001b[0m\n\u001b[1;32m     10\u001b[0m         \u001b[0mduration\u001b[0m \u001b[0;34m+=\u001b[0m \u001b[0md\u001b[0m\u001b[0;34m\u001b[0m\u001b[0;34m\u001b[0m\u001b[0m\n",
      "\u001b[0;32m<ipython-input-8-980bce4dfe32>\u001b[0m in \u001b[0;36mstep\u001b[0;34m(self, state, action)\u001b[0m\n\u001b[1;32m     28\u001b[0m             \u001b[0mreward\u001b[0m \u001b[0;34m=\u001b[0m \u001b[0;36m0.\u001b[0m\u001b[0;34m\u001b[0m\u001b[0;34m\u001b[0m\u001b[0m\n\u001b[1;32m     29\u001b[0m             \u001b[0mduration\u001b[0m \u001b[0;34m=\u001b[0m \u001b[0;36m0.\u001b[0m\u001b[0;34m\u001b[0m\u001b[0;34m\u001b[0m\u001b[0m\n\u001b[0;32m---> 30\u001b[0;31m             \u001b[0mnext_state\u001b[0m \u001b[0;34m=\u001b[0m \u001b[0mself\u001b[0m\u001b[0;34m.\u001b[0m\u001b[0mget_random_state\u001b[0m\u001b[0;34m(\u001b[0m\u001b[0;34m)\u001b[0m\u001b[0;34m\u001b[0m\u001b[0;34m\u001b[0m\u001b[0m\n\u001b[0m\u001b[1;32m     31\u001b[0m         \u001b[0;32mreturn\u001b[0m \u001b[0mnext_state\u001b[0m\u001b[0;34m,\u001b[0m \u001b[0mreward\u001b[0m\u001b[0;34m,\u001b[0m \u001b[0mduration\u001b[0m\u001b[0;34m\u001b[0m\u001b[0;34m\u001b[0m\u001b[0m\n\u001b[1;32m     32\u001b[0m \u001b[0;34m\u001b[0m\u001b[0m\n",
      "\u001b[0;32m<ipython-input-8-980bce4dfe32>\u001b[0m in \u001b[0;36mget_random_state\u001b[0;34m(self)\u001b[0m\n\u001b[1;32m     32\u001b[0m \u001b[0;34m\u001b[0m\u001b[0m\n\u001b[1;32m     33\u001b[0m     \u001b[0;32mdef\u001b[0m \u001b[0mget_random_state\u001b[0m\u001b[0;34m(\u001b[0m\u001b[0mself\u001b[0m\u001b[0;34m)\u001b[0m\u001b[0;34m:\u001b[0m\u001b[0;34m\u001b[0m\u001b[0;34m\u001b[0m\u001b[0m\n\u001b[0;32m---> 34\u001b[0;31m         \u001b[0mi\u001b[0m \u001b[0;34m=\u001b[0m \u001b[0mnp\u001b[0m\u001b[0;34m.\u001b[0m\u001b[0mrandom\u001b[0m\u001b[0;34m.\u001b[0m\u001b[0mchoice\u001b[0m\u001b[0;34m(\u001b[0m\u001b[0mself\u001b[0m\u001b[0;34m.\u001b[0m\u001b[0mstate_count\u001b[0m\u001b[0;34m)\u001b[0m\u001b[0;34m\u001b[0m\u001b[0;34m\u001b[0m\u001b[0m\n\u001b[0m\u001b[1;32m     35\u001b[0m         \u001b[0mkey\u001b[0m \u001b[0;34m=\u001b[0m \u001b[0mlist\u001b[0m\u001b[0;34m(\u001b[0m\u001b[0mself\u001b[0m\u001b[0;34m.\u001b[0m\u001b[0menv\u001b[0m\u001b[0;34m.\u001b[0m\u001b[0mkeys\u001b[0m\u001b[0;34m(\u001b[0m\u001b[0;34m)\u001b[0m\u001b[0;34m)\u001b[0m\u001b[0;34m[\u001b[0m\u001b[0mi\u001b[0m\u001b[0;34m]\u001b[0m\u001b[0;34m\u001b[0m\u001b[0;34m\u001b[0m\u001b[0m\n\u001b[1;32m     36\u001b[0m         \u001b[0;32mreturn\u001b[0m \u001b[0mkey\u001b[0m\u001b[0;34m\u001b[0m\u001b[0;34m\u001b[0m\u001b[0m\n",
      "\u001b[0;31mKeyboardInterrupt\u001b[0m: "
     ]
    }
   ],
   "source": [
    "for i in range(10):\n",
    "    for i_batch, sample in enumerate(train_dataset):\n",
    "        \n",
    "        s = sample['state']\n",
    "        a = sample['action']\n",
    "        r = sample['reward']\n",
    "        next_s = sample['next_state']\n",
    "        \n",
    "        agent.update(s,a,r,next_s)\n",
    "        \n",
    "        if not i_batch % 100000:\n",
    "            # agent.alpha *= 0.99\n",
    "            history.append(np.mean([generate_session(agent, test_env) for _ in range(100)]))\n",
    "            iters.append(i_iter)\n",
    "            clear_output(True)\n",
    "            plt.plot(iters, history)\n",
    "            plt.show()\n",
    "        i_iter += 1"
   ]
  },
  {
   "cell_type": "code",
   "execution_count": 20,
   "metadata": {},
   "outputs": [
    {
     "name": "stdout",
     "output_type": "stream",
     "text": [
      "CPU times: user 4min 47s, sys: 108 ms, total: 4min 47s\n",
      "Wall time: 4min 47s\n"
     ]
    }
   ],
   "source": [
    "%%time\n",
    "iters = 1000\n",
    "\n",
    "validation_simple = [{'type': 'simple_agent', 'reward': generate_session(simple_agent, test_env)} for _ in range(iters)]\n",
    "validation_agent = [{'type': 'agent', 'reward': generate_session(agent, test_env)} for _ in range(iters)]\n",
    "\n",
    "val_df = pd.DataFrame(validation_simple + validation_agent)"
   ]
  },
  {
   "cell_type": "code",
   "execution_count": 21,
   "metadata": {},
   "outputs": [
    {
     "data": {
      "image/png": "[encoded data removed]",
      "text/plain": [
       "<Figure size 360x360 with 1 Axes>"
      ]
     },
     "metadata": {},
     "output_type": "display_data"
    }
   ],
   "source": [
    "sns.catplot(x=\"type\", y=\"reward\",kind='box', data=val_df);"
   ]
  },
  {
   "cell_type": "code",
   "execution_count": 22,
   "metadata": {},
   "outputs": [
    {
     "name": "stdout",
     "output_type": "stream",
     "text": [
      "46.782711020270526\n"
     ]
    },
    {
     "data": {
      "image/png": "[encoded data removed]",
      "text/plain": [
       "<Figure size 432x288 with 1 Axes>"
      ]
     },
     "metadata": {},
     "output_type": "display_data"
    }
   ],
   "source": [
    "print(val_df.loc[val_df['type'] == 'agent', 'reward'].mean())\n",
    "val_df.loc[val_df['type'] == 'agent', 'reward'].hist(bins=50);"
   ]
  },
  {
   "cell_type": "code",
   "execution_count": 23,
   "metadata": {},
   "outputs": [
    {
     "name": "stdout",
     "output_type": "stream",
     "text": [
      "27.19775790232031\n"
     ]
    },
    {
     "data": {
      "image/png": "[encoded data removed]",
      "text/plain": [
       "<Figure size 432x288 with 1 Axes>"
      ]
     },
     "metadata": {},
     "output_type": "display_data"
    }
   ],
   "source": [
    "print(val_df.loc[val_df['type'] == 'simple_agent', 'reward'].mean())\n",
    "val_df.loc[val_df['type'] == 'simple_agent', 'reward'].hist(bins=50);"
   ]
  },
  {
   "cell_type": "code",
   "execution_count": 24,
   "metadata": {},
   "outputs": [
    {
     "data": {
      "image/png": "[encoded data removed]",
      "text/plain": [
       "<Figure size 432x288 with 1 Axes>"
      ]
     },
     "metadata": {},
     "output_type": "display_data"
    }
   ],
   "source": [
    "plt.hist([agent.get_best_action(test_env.get_random_state()) for _ in range(100)]);"
   ]
  },
  {
   "cell_type": "markdown",
   "metadata": {},
   "source": [
    "Сохраним модель в виде словаря Q значений:"
   ]
  },
  {
   "cell_type": "code",
   "execution_count": 26,
   "metadata": {},
   "outputs": [],
   "source": [
    "qvalues = {}\n",
    "for key, value in agent._qvalues.items():\n",
    "    qvalues[key] = dict(value)\n",
    "pickle.dump(qvalues, open('output/qlearning_model/qvalues.pkl', 'wb'))"
   ]
  },
  {
   "cell_type": "markdown",
   "metadata": {},
   "source": [
    "Сохраним также модель окружения:"
   ]
  },
  {
   "cell_type": "code",
   "execution_count": 27,
   "metadata": {},
   "outputs": [],
   "source": [
    "env_dict = {}\n",
    "for key, value in test_env.env.items():\n",
    "    env_dict[key] = dict(value)\n",
    "pickle.dump(env_dict, open('output/env_dict.pkl', 'wb'))"
   ]
  },
  {
   "cell_type": "code",
   "execution_count": null,
   "metadata": {},
   "outputs": [],
   "source": []
  }
 ],
 "metadata": {
  "kernelspec": {
   "display_name": "Python 3",
   "language": "python",
   "name": "python3"
  },
  "language_info": {
   "codemirror_mode": {
    "name": "ipython",
    "version": 3
   },
   "file_extension": ".py",
   "mimetype": "text/x-python",
   "name": "python",
   "nbconvert_exporter": "python",
   "pygments_lexer": "ipython3",
   "version": "3.8.6"
  }
 },
 "nbformat": 4,
 "nbformat_minor": 4
}
