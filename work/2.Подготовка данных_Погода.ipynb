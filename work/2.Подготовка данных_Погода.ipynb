{
 "cells": [
  {
   "cell_type": "code",
   "execution_count": 1,
   "metadata": {},
   "outputs": [],
   "source": [
    "!pip install -q holidays"
   ]
  },
  {
   "cell_type": "code",
   "execution_count": 2,
   "metadata": {},
   "outputs": [],
   "source": [
    "import seaborn as sns\n",
    "import matplotlib.pyplot as plt\n",
    "sns.set(style=\"ticks\", color_codes=True)"
   ]
  },
  {
   "cell_type": "code",
   "execution_count": 3,
   "metadata": {},
   "outputs": [],
   "source": [
    "path_to_rawdata = 'data/green_taxi/green_tripdata_2017-05.csv.bz2'\n",
    "path_to_geoinfo = 'shape/'"
   ]
  },
  {
   "cell_type": "code",
   "execution_count": 4,
   "metadata": {
    "colab": {},
    "colab_type": "code",
    "id": "lC-Ulysdzm85"
   },
   "outputs": [],
   "source": [
    "from pyspark.sql import SparkSession\n",
    "from pyspark.sql.functions import *\n",
    "from pyspark.sql.types import *\n",
    "from pyspark.sql.window import Window\n",
    "import pandas as pd\n",
    "import numpy as np\n",
    "import holidays\n",
    "import matplotlib.pyplot as plt\n",
    "from tqdm.auto import tqdm\n",
    "from IPython.display import clear_output"
   ]
  },
  {
   "cell_type": "code",
   "execution_count": 5,
   "metadata": {},
   "outputs": [],
   "source": [
    "from filter import filter_data\n",
    "from load import load_data"
   ]
  },
  {
   "cell_type": "code",
   "execution_count": 6,
   "metadata": {
    "colab": {},
    "colab_type": "code",
    "id": "P1kT0sq2zm8-"
   },
   "outputs": [],
   "source": [
    "MEMORY_SIZE = '5g'\n",
    "spark = SparkSession \\\n",
    "    .builder \\\n",
    "    .config('spark.driver.memory', MEMORY_SIZE) \\\n",
    "    .appName('spark-taxi') \\\n",
    "    .getOrCreate()"
   ]
  },
  {
   "cell_type": "code",
   "execution_count": 7,
   "metadata": {},
   "outputs": [
    {
     "data": {
      "text/plain": [
       "DataFrame[lpep_pickup_datetime: timestamp, lpep_dropoff_datetime: timestamp, RatecodeID: tinyint, PULocationID: int, DOLocationID: int, passenger_count: tinyint, trip_distance: float, fare_amount: float, tip_amount: float, tolls_amount: float, total_amount: float, payment_type: tinyint, trip_type: tinyint, duration: int, speed: double]"
      ]
     },
     "execution_count": 7,
     "metadata": {},
     "output_type": "execute_result"
    }
   ],
   "source": [
    "df = load_data(spark, path_to_rawdata)\n",
    "df = filter_data(df)\n",
    "df.cache()"
   ]
  },
  {
   "cell_type": "markdown",
   "metadata": {},
   "source": [
    "Погода:"
   ]
  },
  {
   "cell_type": "code",
   "execution_count": 8,
   "metadata": {},
   "outputs": [],
   "source": [
    "temp = spark.read \\\n",
    "        .format('csv') \\\n",
    "        .option('header', 'true') \\\n",
    "        .option('delimiter', ',') \\\n",
    "        .load('data/weather/temperature.csv').select([col('datetime').cast(TimestampType()),\n",
    "                                                      col('New York').alias('temp').cast(FloatType())]).dropna()\n",
    "humidity = spark.read \\\n",
    "        .format('csv') \\\n",
    "        .option('header', 'true') \\\n",
    "        .option('delimiter', ',') \\\n",
    "        .load('data/weather/humidity.csv').select([col('datetime').cast(TimestampType()),\n",
    "                                                      col('New York').alias('humidity').cast(FloatType())]).dropna()\n",
    "pressure = spark.read \\\n",
    "        .format('csv') \\\n",
    "        .option('header', 'true') \\\n",
    "        .option('delimiter', ',') \\\n",
    "        .load('data/weather/pressure.csv').select([col('datetime').cast(TimestampType()),\n",
    "                                                      col('New York').alias('pressure').cast(FloatType())]).dropna()\n"
   ]
  },
  {
   "cell_type": "code",
   "execution_count": 9,
   "metadata": {},
   "outputs": [
    {
     "name": "stdout",
     "output_type": "stream",
     "text": [
      "+-------------------+---------+--------+--------+\n",
      "|           datetime|     temp|humidity|pressure|\n",
      "+-------------------+---------+--------+--------+\n",
      "|2012-10-01 13:00:00|   288.22|    58.0|  1012.0|\n",
      "|2012-10-01 14:00:00|288.24768|    57.0|  1012.0|\n",
      "|2012-10-01 15:00:00|288.32693|    57.0|  1012.0|\n",
      "|2012-10-01 16:00:00| 288.4062|    57.0|  1012.0|\n",
      "|2012-10-01 17:00:00|288.48547|    57.0|  1012.0|\n",
      "+-------------------+---------+--------+--------+\n",
      "only showing top 5 rows\n",
      "\n"
     ]
    }
   ],
   "source": [
    "weather = temp.join(humidity, on='datetime', how='inner').join(pressure, on='datetime', how='inner')\n",
    "weather.show(5)"
   ]
  },
  {
   "cell_type": "code",
   "execution_count": 10,
   "metadata": {},
   "outputs": [],
   "source": [
    "def norm_weather(column):\n",
    "    u = weather.select(mean(column)).toPandas().values[0][0]\n",
    "    z = weather.select(stddev(column)).toPandas().values[0][0]\n",
    "    return weather.withColumn(column, (col(column) - u) / z)"
   ]
  },
  {
   "cell_type": "code",
   "execution_count": 11,
   "metadata": {},
   "outputs": [],
   "source": [
    "weather = norm_weather('temp')\n",
    "weather = norm_weather('humidity')\n",
    "weather = norm_weather('pressure')"
   ]
  },
  {
   "cell_type": "code",
   "execution_count": 12,
   "metadata": {},
   "outputs": [
    {
     "name": "stdout",
     "output_type": "stream",
     "text": [
      "+-------------------+-------------------+--------------------+-------------------+\n",
      "|           datetime|               temp|            humidity|           pressure|\n",
      "+-------------------+-------------------+--------------------+-------------------+\n",
      "|2012-10-01 13:00:00|0.26846161172475763| -0.4356924169388144|-0.4967712982180166|\n",
      "|2012-10-01 14:00:00|0.27116760939632845|-0.48602596911661466|-0.4967712982180166|\n",
      "|2012-10-01 15:00:00|0.27891565344601904|-0.48602596911661466|-0.4967712982180166|\n",
      "|2012-10-01 16:00:00|0.28666369749570964|-0.48602596911661466|-0.4967712982180166|\n",
      "|2012-10-01 17:00:00| 0.2944147250047956|-0.48602596911661466|-0.4967712982180166|\n",
      "+-------------------+-------------------+--------------------+-------------------+\n",
      "only showing top 5 rows\n",
      "\n"
     ]
    }
   ],
   "source": [
    "weather.show(5)"
   ]
  },
  {
   "cell_type": "code",
   "execution_count": 13,
   "metadata": {},
   "outputs": [],
   "source": [
    "#count_by_zones = df.groupBy('PULocationID').count().toPandas()"
   ]
  },
  {
   "cell_type": "code",
   "execution_count": 14,
   "metadata": {},
   "outputs": [],
   "source": [
    "w = Window().partitionBy(\"PULocationID\").orderBy(\"lpep_pickup_datetime\")\n",
    "pause_secs = col(\"lpep_pickup_datetime\").cast(\"long\") - lag(col(\"lpep_pickup_datetime\"), 1).over(w).cast(\"long\")\n",
    "lpep_pickup_datetime_lag = lag(col(\"lpep_pickup_datetime\"), 1).over(w)\n",
    "\n",
    "df = df.withColumn(\"duration_wait\", (pause_secs / 60)) \\\n",
    "        .withColumn('lpep_pickup_datetime_lag', lpep_pickup_datetime_lag) \\\n",
    "        .dropna().cache()"
   ]
  },
  {
   "cell_type": "code",
   "execution_count": 15,
   "metadata": {},
   "outputs": [],
   "source": [
    "us_holidays = list(holidays.UnitedStates(years=[2017, 2018, 2019]).keys())"
   ]
  },
  {
   "cell_type": "markdown",
   "metadata": {},
   "source": [
    "actions - (ехать в район i, ждать заказ в данном районе)\n",
    "s >> ехать в район i >> (s',r)\n",
    "s >> ждать заказ >> p(s',r)"
   ]
  },
  {
   "cell_type": "code",
   "execution_count": 16,
   "metadata": {},
   "outputs": [],
   "source": [
    "def prep_state(df, place, data_col, name):\n",
    "    \n",
    "    state_cols = ['hour', 'weekday', 'holiday', 'temp', 'humidity', 'pressure']\n",
    "    \n",
    "    df = df.withColumn(\"weekday\", dayofweek(col(data_col))) \\\n",
    "            .withColumn('holiday', when(col(data_col).isin(us_holidays), 1).otherwise(0)) \\\n",
    "            .withColumn(\"hour\", hour(col(data_col)))\n",
    "    \n",
    "    df = df.join(weather, on=[date_trunc('hour', col(data_col)) == weather.datetime], how='leftouter').drop('datetime')\n",
    "    \n",
    "    df = df.withColumn(name, struct([col(place).alias('location')] + state_cols))\n",
    "    \n",
    "    df = df.drop(*state_cols)\n",
    "    \n",
    "    return df"
   ]
  },
  {
   "cell_type": "code",
   "execution_count": 17,
   "metadata": {},
   "outputs": [],
   "source": [
    "df = prep_state(df, 'PULocationID', 'lpep_pickup_datetime', 'state_pickup')\n",
    "df = prep_state(df, 'DOLocationID', 'lpep_dropoff_datetime', 'state_dropoff')\n",
    "df = prep_state(df, 'PULocationID', 'lpep_pickup_datetime_lag', 'state_pickup_lag')\n",
    "#drop_cols = ['lpep_pickup_datetime', 'lpep_dropoff_datetime', 'PULocationID', 'DOLocationID', 'lpep_pickup_datetime_lag']\n",
    "#df = df.drop(*drop_cols)"
   ]
  },
  {
   "cell_type": "code",
   "execution_count": 18,
   "metadata": {},
   "outputs": [
    {
     "data": {
      "text/html": [
       "<div>\n",
       "<style scoped>\n",
       "    .dataframe tbody tr th:only-of-type {\n",
       "        vertical-align: middle;\n",
       "    }\n",
       "\n",
       "    .dataframe tbody tr th {\n",
       "        vertical-align: top;\n",
       "    }\n",
       "\n",
       "    .dataframe thead th {\n",
       "        text-align: right;\n",
       "    }\n",
       "</style>\n",
       "<table border=\"1\" class=\"dataframe\">\n",
       "  <thead>\n",
       "    <tr style=\"text-align: right;\">\n",
       "      <th></th>\n",
       "      <th>lpep_pickup_datetime</th>\n",
       "      <th>lpep_dropoff_datetime</th>\n",
       "      <th>RatecodeID</th>\n",
       "      <th>PULocationID</th>\n",
       "      <th>DOLocationID</th>\n",
       "      <th>passenger_count</th>\n",
       "      <th>trip_distance</th>\n",
       "      <th>fare_amount</th>\n",
       "      <th>tip_amount</th>\n",
       "      <th>tolls_amount</th>\n",
       "      <th>total_amount</th>\n",
       "      <th>payment_type</th>\n",
       "      <th>trip_type</th>\n",
       "      <th>duration</th>\n",
       "      <th>speed</th>\n",
       "      <th>duration_wait</th>\n",
       "      <th>lpep_pickup_datetime_lag</th>\n",
       "      <th>state_pickup</th>\n",
       "      <th>state_dropoff</th>\n",
       "      <th>state_pickup_lag</th>\n",
       "    </tr>\n",
       "  </thead>\n",
       "  <tbody>\n",
       "    <tr>\n",
       "      <th>0</th>\n",
       "      <td>2017-05-06 15:13:44</td>\n",
       "      <td>2017-05-06 15:23:12</td>\n",
       "      <td>1</td>\n",
       "      <td>243</td>\n",
       "      <td>235</td>\n",
       "      <td>1</td>\n",
       "      <td>1.88</td>\n",
       "      <td>9.0</td>\n",
       "      <td>0.00</td>\n",
       "      <td>0.0</td>\n",
       "      <td>9.800000</td>\n",
       "      <td>2</td>\n",
       "      <td>1</td>\n",
       "      <td>9</td>\n",
       "      <td>12.533333</td>\n",
       "      <td>10.366667</td>\n",
       "      <td>2017-05-06 15:03:22</td>\n",
       "      <td>(243, 15, 7, 0, 0.40337364558190403, -0.385358...</td>\n",
       "      <td>(235, 15, 7, 0, 0.40337364558190403, -0.385358...</td>\n",
       "      <td>(243, 15, 7, 0, 0.40337364558190403, -0.385358...</td>\n",
       "    </tr>\n",
       "    <tr>\n",
       "      <th>1</th>\n",
       "      <td>2017-05-06 15:21:50</td>\n",
       "      <td>2017-05-06 15:38:28</td>\n",
       "      <td>1</td>\n",
       "      <td>243</td>\n",
       "      <td>143</td>\n",
       "      <td>1</td>\n",
       "      <td>6.53</td>\n",
       "      <td>20.5</td>\n",
       "      <td>4.26</td>\n",
       "      <td>0.0</td>\n",
       "      <td>25.559999</td>\n",
       "      <td>1</td>\n",
       "      <td>1</td>\n",
       "      <td>16</td>\n",
       "      <td>24.487501</td>\n",
       "      <td>8.100000</td>\n",
       "      <td>2017-05-06 15:13:44</td>\n",
       "      <td>(243, 15, 7, 0, 0.40337364558190403, -0.385358...</td>\n",
       "      <td>(143, 15, 7, 0, 0.40337364558190403, -0.385358...</td>\n",
       "      <td>(243, 15, 7, 0, 0.40337364558190403, -0.385358...</td>\n",
       "    </tr>\n",
       "    <tr>\n",
       "      <th>2</th>\n",
       "      <td>2017-05-06 15:23:04</td>\n",
       "      <td>2017-05-06 15:41:13</td>\n",
       "      <td>1</td>\n",
       "      <td>243</td>\n",
       "      <td>236</td>\n",
       "      <td>1</td>\n",
       "      <td>6.28</td>\n",
       "      <td>20.0</td>\n",
       "      <td>4.16</td>\n",
       "      <td>0.0</td>\n",
       "      <td>24.959999</td>\n",
       "      <td>1</td>\n",
       "      <td>1</td>\n",
       "      <td>18</td>\n",
       "      <td>20.933334</td>\n",
       "      <td>1.233333</td>\n",
       "      <td>2017-05-06 15:21:50</td>\n",
       "      <td>(243, 15, 7, 0, 0.40337364558190403, -0.385358...</td>\n",
       "      <td>(236, 15, 7, 0, 0.40337364558190403, -0.385358...</td>\n",
       "      <td>(243, 15, 7, 0, 0.40337364558190403, -0.385358...</td>\n",
       "    </tr>\n",
       "    <tr>\n",
       "      <th>3</th>\n",
       "      <td>2017-05-06 15:24:03</td>\n",
       "      <td>2017-05-06 15:34:31</td>\n",
       "      <td>1</td>\n",
       "      <td>243</td>\n",
       "      <td>74</td>\n",
       "      <td>1</td>\n",
       "      <td>4.51</td>\n",
       "      <td>14.5</td>\n",
       "      <td>3.06</td>\n",
       "      <td>0.0</td>\n",
       "      <td>18.360001</td>\n",
       "      <td>1</td>\n",
       "      <td>1</td>\n",
       "      <td>10</td>\n",
       "      <td>27.060001</td>\n",
       "      <td>0.983333</td>\n",
       "      <td>2017-05-06 15:23:04</td>\n",
       "      <td>(243, 15, 7, 0, 0.40337364558190403, -0.385358...</td>\n",
       "      <td>(74, 15, 7, 0, 0.40337364558190403, -0.3853588...</td>\n",
       "      <td>(243, 15, 7, 0, 0.40337364558190403, -0.385358...</td>\n",
       "    </tr>\n",
       "    <tr>\n",
       "      <th>4</th>\n",
       "      <td>2017-05-06 15:38:28</td>\n",
       "      <td>2017-05-06 15:54:15</td>\n",
       "      <td>1</td>\n",
       "      <td>243</td>\n",
       "      <td>74</td>\n",
       "      <td>1</td>\n",
       "      <td>4.58</td>\n",
       "      <td>16.5</td>\n",
       "      <td>2.70</td>\n",
       "      <td>0.0</td>\n",
       "      <td>20.000000</td>\n",
       "      <td>1</td>\n",
       "      <td>1</td>\n",
       "      <td>15</td>\n",
       "      <td>18.320000</td>\n",
       "      <td>14.416667</td>\n",
       "      <td>2017-05-06 15:24:03</td>\n",
       "      <td>(243, 15, 7, 0, 0.40337364558190403, -0.385358...</td>\n",
       "      <td>(74, 15, 7, 0, 0.40337364558190403, -0.3853588...</td>\n",
       "      <td>(243, 15, 7, 0, 0.40337364558190403, -0.385358...</td>\n",
       "    </tr>\n",
       "  </tbody>\n",
       "</table>\n",
       "</div>"
      ],
      "text/plain": [
       "  lpep_pickup_datetime lpep_dropoff_datetime  RatecodeID  PULocationID  \\\n",
       "0  2017-05-06 15:13:44   2017-05-06 15:23:12           1           243   \n",
       "1  2017-05-06 15:21:50   2017-05-06 15:38:28           1           243   \n",
       "2  2017-05-06 15:23:04   2017-05-06 15:41:13           1           243   \n",
       "3  2017-05-06 15:24:03   2017-05-06 15:34:31           1           243   \n",
       "4  2017-05-06 15:38:28   2017-05-06 15:54:15           1           243   \n",
       "\n",
       "   DOLocationID  passenger_count  trip_distance  fare_amount  tip_amount  \\\n",
       "0           235                1           1.88          9.0        0.00   \n",
       "1           143                1           6.53         20.5        4.26   \n",
       "2           236                1           6.28         20.0        4.16   \n",
       "3            74                1           4.51         14.5        3.06   \n",
       "4            74                1           4.58         16.5        2.70   \n",
       "\n",
       "   tolls_amount  total_amount  payment_type  trip_type  duration      speed  \\\n",
       "0           0.0      9.800000             2          1         9  12.533333   \n",
       "1           0.0     25.559999             1          1        16  24.487501   \n",
       "2           0.0     24.959999             1          1        18  20.933334   \n",
       "3           0.0     18.360001             1          1        10  27.060001   \n",
       "4           0.0     20.000000             1          1        15  18.320000   \n",
       "\n",
       "   duration_wait lpep_pickup_datetime_lag  \\\n",
       "0      10.366667      2017-05-06 15:03:22   \n",
       "1       8.100000      2017-05-06 15:13:44   \n",
       "2       1.233333      2017-05-06 15:21:50   \n",
       "3       0.983333      2017-05-06 15:23:04   \n",
       "4      14.416667      2017-05-06 15:24:03   \n",
       "\n",
       "                                        state_pickup  \\\n",
       "0  (243, 15, 7, 0, 0.40337364558190403, -0.385358...   \n",
       "1  (243, 15, 7, 0, 0.40337364558190403, -0.385358...   \n",
       "2  (243, 15, 7, 0, 0.40337364558190403, -0.385358...   \n",
       "3  (243, 15, 7, 0, 0.40337364558190403, -0.385358...   \n",
       "4  (243, 15, 7, 0, 0.40337364558190403, -0.385358...   \n",
       "\n",
       "                                       state_dropoff  \\\n",
       "0  (235, 15, 7, 0, 0.40337364558190403, -0.385358...   \n",
       "1  (143, 15, 7, 0, 0.40337364558190403, -0.385358...   \n",
       "2  (236, 15, 7, 0, 0.40337364558190403, -0.385358...   \n",
       "3  (74, 15, 7, 0, 0.40337364558190403, -0.3853588...   \n",
       "4  (74, 15, 7, 0, 0.40337364558190403, -0.3853588...   \n",
       "\n",
       "                                    state_pickup_lag  \n",
       "0  (243, 15, 7, 0, 0.40337364558190403, -0.385358...  \n",
       "1  (243, 15, 7, 0, 0.40337364558190403, -0.385358...  \n",
       "2  (243, 15, 7, 0, 0.40337364558190403, -0.385358...  \n",
       "3  (243, 15, 7, 0, 0.40337364558190403, -0.385358...  \n",
       "4  (243, 15, 7, 0, 0.40337364558190403, -0.385358...  "
      ]
     },
     "execution_count": 18,
     "metadata": {},
     "output_type": "execute_result"
    }
   ],
   "source": [
    "df.cache()\n",
    "df.limit(5).toPandas()"
   ]
  },
  {
   "cell_type": "markdown",
   "metadata": {},
   "source": [
    "### Остаться в этом районе"
   ]
  },
  {
   "cell_type": "code",
   "execution_count": 19,
   "metadata": {},
   "outputs": [],
   "source": [
    "df1 = df.filter('state_pickup.location == state_dropoff.location') \\\n",
    "        .select([col('lpep_pickup_datetime_lag').alias('datetime'),\n",
    "                col('state_pickup_lag').alias('state'), \n",
    "               col('state_pickup_lag').location.alias('action'),\n",
    "               (col('fare_amount') - col('duration_wait') * 0.5 * 0.1).alias('reward'),\n",
    "               col('state_dropoff').alias('next_state'),\n",
    "               (col('duration') + col('duration_wait')).alias('duration_trip')\n",
    "              ])"
   ]
  },
  {
   "cell_type": "markdown",
   "metadata": {},
   "source": [
    "### Ехать в другой район"
   ]
  },
  {
   "cell_type": "code",
   "execution_count": 20,
   "metadata": {},
   "outputs": [],
   "source": [
    "df2 = df.filter('state_pickup.location != state_dropoff.location') \\\n",
    "        .select([col('lpep_pickup_datetime').alias('datetime'),\n",
    "                col('state_pickup').alias('state'), \n",
    "               col('state_dropoff').location.alias('action'),\n",
    "               (col('fare_amount') * -1. * 0.1).alias('reward'),\n",
    "               col('state_dropoff').alias('next_state'),\n",
    "               col('duration').alias('duration_trip')\n",
    "              ])"
   ]
  },
  {
   "cell_type": "code",
   "execution_count": 21,
   "metadata": {},
   "outputs": [],
   "source": [
    "data = df1.union(df2)"
   ]
  },
  {
   "cell_type": "code",
   "execution_count": 22,
   "metadata": {},
   "outputs": [
    {
     "name": "stdout",
     "output_type": "stream",
     "text": [
      "+-------------------+--------------------+------+------------------+--------------------+------------------+\n",
      "|           datetime|               state|action|            reward|          next_state|     duration_trip|\n",
      "+-------------------+--------------------+------+------------------+--------------------+------------------+\n",
      "|2017-05-06 15:42:23|[243, 15, 7, 0, 0...|   243|4.3133333333333335|[243, 15, 7, 0, 0...| 6.733333333333333|\n",
      "|2017-05-06 15:00:12|[255, 15, 7, 0, 0...|   255|5.4816666666666665|[255, 15, 7, 0, 0...| 5.366666666666666|\n",
      "|2017-05-06 15:14:50|[255, 15, 7, 0, 0...|   255| 9.485833333333334|[255, 15, 7, 0, 0...|14.283333333333333|\n",
      "|2017-05-06 15:28:04|[255, 15, 7, 0, 0...|   255| 4.413333333333333|[255, 15, 7, 0, 0...| 5.733333333333333|\n",
      "|2017-05-06 15:30:57|[255, 15, 7, 0, 0...|   255|5.4158333333333335|[255, 15, 7, 0, 0...| 7.683333333333334|\n",
      "+-------------------+--------------------+------+------------------+--------------------+------------------+\n",
      "only showing top 5 rows\n",
      "\n"
     ]
    }
   ],
   "source": [
    "data.show(5)"
   ]
  },
  {
   "cell_type": "code",
   "execution_count": 23,
   "metadata": {},
   "outputs": [],
   "source": [
    "data.repartition(8).write.parquet('data/green_taxi_prepare_weather/')"
   ]
  },
  {
   "cell_type": "code",
   "execution_count": null,
   "metadata": {},
   "outputs": [],
   "source": []
  }
 ],
 "metadata": {
  "kernelspec": {
   "display_name": "Python 3",
   "language": "python",
   "name": "python3"
  },
  "language_info": {
   "codemirror_mode": {
    "name": "ipython",
    "version": 3
   },
   "file_extension": ".py",
   "mimetype": "text/x-python",
   "name": "python",
   "nbconvert_exporter": "python",
   "pygments_lexer": "ipython3",
   "version": "3.8.5"
  }
 },
 "nbformat": 4,
 "nbformat_minor": 4
}
